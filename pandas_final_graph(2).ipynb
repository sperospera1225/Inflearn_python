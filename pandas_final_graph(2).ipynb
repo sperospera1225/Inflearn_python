{
 "cells": [
  {
   "cell_type": "markdown",
   "metadata": {},
   "source": [
    "## 코로나 국가별 확진자 수 추이 분석/시각화\n",
    "- https://public.flourish.studio/visualisation/2897018/"
   ]
  },
  {
   "cell_type": "markdown",
   "metadata": {},
   "source": [
    "### 날짜별 확진자수 최종 데이터프레임 읽기 (df_confirmed)"
   ]
  },
  {
   "cell_type": "code",
   "execution_count": null,
   "metadata": {},
   "outputs": [],
   "source": [
    "import pandas as pd\n",
    "df_confirmed = pd.read_csv(\"COVID-19-master/final_df.csv\")\n",
    "df_confirmed.head()"
   ]
  },
  {
   "cell_type": "code",
   "execution_count": null,
   "metadata": {},
   "outputs": [],
   "source": [
    "df_confirmed.shape"
   ]
  },
  {
   "cell_type": "markdown",
   "metadata": {},
   "source": [
    "### 국가명과 iso2 매칭 테이블 읽기 (country_info)\n",
    "  - iso2 컬럼값으로 https://www.countryflags.io/ 에서 제공하는 국기 이미지 링크를 얻을 수 있음\n",
    "  - 다음 데이터는 결측치로 변환됨\n",
    "    - ‘’, ‘#N/A’, ‘#N/A N/A’, ‘#NA’, ‘-1.#IND’, ‘-1.#QNAN’, ‘-NaN’, ‘-nan’, ‘1.#IND’, ‘1.#QNAN’, ‘<NA>’, ‘N/A’, ‘NA’, ‘NULL’, ‘NaN’, ‘n/a’, ‘nan’, ‘null’\n",
    "  - Namibia 국가의 iso2 값이 NA 이므로 결측치 변환을 막기 위해 다음과 같은 옵션 설정\n",
    "    - keep_default_na=False : 디폴트 결측치 변환 데이터를 사용하지 않고, na_values로 지정한 데이터만 결측치로 변환\n",
    "    - na_values='' : 결측치로 변환할 값을 지정"
   ]
  },
  {
   "cell_type": "code",
   "execution_count": null,
   "metadata": {},
   "outputs": [],
   "source": [
    "country_info = pd.read_csv(\"COVID-19-master/csse_covid_19_data/UID_ISO_FIPS_LookUp_Table.csv\", encoding='utf-8-sig', keep_default_na=False, na_values='')\n",
    "country_info.head()"
   ]
  },
  {
   "cell_type": "code",
   "execution_count": null,
   "metadata": {},
   "outputs": [],
   "source": [
    "country_info[country_info['Country_Region'] == 'Namibia']"
   ]
  },
  {
   "cell_type": "code",
   "execution_count": null,
   "metadata": {},
   "outputs": [],
   "source": [
    "country_info = country_info[['iso2', 'Country_Region']]\n",
    "country_info.head()"
   ]
  },
  {
   "cell_type": "markdown",
   "metadata": {},
   "source": [
    "- 중복 행 제거"
   ]
  },
  {
   "cell_type": "code",
   "execution_count": null,
   "metadata": {},
   "outputs": [],
   "source": [
    "country_info.shape"
   ]
  },
  {
   "cell_type": "code",
   "execution_count": null,
   "metadata": {},
   "outputs": [],
   "source": [
    "country_info = country_info.drop_duplicates(subset='Country_Region', keep='last')\n",
    "country_info.shape"
   ]
  },
  {
   "cell_type": "markdown",
   "metadata": {},
   "source": [
    "### 날짜별 국가별 확진자수와 국가별 iso2 값 병합"
   ]
  },
  {
   "cell_type": "code",
   "execution_count": null,
   "metadata": {},
   "outputs": [],
   "source": [
    "doc_final_country = pd.merge(df_confirmed, country_info, how='left', on='Country_Region')\n",
    "doc_final_country.head()"
   ]
  },
  {
   "cell_type": "code",
   "execution_count": null,
   "metadata": {},
   "outputs": [],
   "source": [
    "doc_final_country.shape"
   ]
  },
  {
   "cell_type": "markdown",
   "metadata": {},
   "source": [
    "#### 없는 데이터(NaN) 확인하기"
   ]
  },
  {
   "cell_type": "code",
   "execution_count": null,
   "metadata": {},
   "outputs": [],
   "source": [
    "doc_final_country.isnull().sum()"
   ]
  },
  {
   "cell_type": "markdown",
   "metadata": {},
   "source": [
    "### 특정 컬럼에 없는 데이터(NaN)가 있는 경우, 해당 행들만 보여주기\n",
    "- 특정 컬럼 조건에 맞는 행들만 추출 가능\n",
    "  - dataframe[dataframe[컬럼명] 조건]"
   ]
  },
  {
   "cell_type": "code",
   "execution_count": null,
   "metadata": {},
   "outputs": [],
   "source": [
    "doc_final_country[doc_final_country['iso2'].isnull()]"
   ]
  },
  {
   "cell_type": "markdown",
   "metadata": {},
   "source": [
    "#### 참고: 복합 조건은 \n",
    "- dataframe[(조건1) & (조건2)] : 조건1과 조건2 모두 만족 (and 조건)\n",
    "- dataframe[(조건1) | (조건2)] : 조건1 또는 조건2 만족 (or 조건)\n",
    "- 조건에 괄호를 넣는 것이 오동작을 방지하기 위해 좋음\n",
    "\n",
    "```\n",
    "nan_rows = doc_final_country[(doc_final_country['iso2'].isnull()) & (doc_final_country['4/01/2020'] == 0)]\n",
    "nan_rows.head()\n",
    "```"
   ]
  },
  {
   "cell_type": "markdown",
   "metadata": {},
   "source": [
    "### 특정 컬럼에 없는 데이터 삭제하기"
   ]
  },
  {
   "cell_type": "code",
   "execution_count": null,
   "metadata": {},
   "outputs": [],
   "source": [
    "doc_final_country = doc_final_country.dropna(subset=['iso2'])"
   ]
  },
  {
   "cell_type": "code",
   "execution_count": null,
   "metadata": {},
   "outputs": [],
   "source": [
    "doc_final_country[doc_final_country['iso2'].isnull()]"
   ]
  },
  {
   "cell_type": "markdown",
   "metadata": {},
   "source": [
    "### 국기 링크를 기존 컬럼 기반해서 만들어, 데이터프레임에 붙이기\n",
    "- 필요 데이터\n",
    "  - 국가명, 국기, 날짜별 확진자 수\n",
    "- www.countryflags.io\n",
    "  - AD 는 https://www.countryflags.io/AD/flat/64.png"
   ]
  },
  {
   "cell_type": "markdown",
   "metadata": {},
   "source": [
    "- 국기 링크 만들기"
   ]
  },
  {
   "cell_type": "code",
   "execution_count": null,
   "metadata": {},
   "outputs": [],
   "source": [
    "iso2= 'AD'\n",
    "flag_link = 'https://www.countryflags.io/' + iso2 + '/flat/64.png'\n",
    "flag_link"
   ]
  },
  {
   "cell_type": "markdown",
   "metadata": {},
   "source": [
    "#### 참고: 데이터프레임에 신규 컬럼 추가하기\n",
    "- 데이터 프레임에 신규 컬럼 추가하기\n",
    "  - 데이터프레임[신규컬럼] = pd.Series(data=데이터)\n",
    "    - 데이터는 행에 맞게, [0, 1, 2] 와 같은 형태로 넣을 수 있음\n",
    "- 기존 데이터프레임 컬럼 값을 기반으로 신규 컬럼 추가하기\n",
    "  - apply() 함수를 사용\n",
    "  - 다음 create_flag_link 함수 적용 전에, 아래의 함수로 어떤 값이 인자로 들어오는지 확인해보기 \n",
    "\n",
    "    ```\n",
    "    def create_flag_link(row):\n",
    "        flag_link = 'https://www.countryflags.io/' + row + '/flat/64.png'\n",
    "        return flag_link\n",
    "        \n",
    "    doc_final_country['Country_Flag'] = doc_final_country['iso2'].apply(create_flag_link)\n",
    "    ```"
   ]
  },
  {
   "cell_type": "code",
   "execution_count": null,
   "metadata": {},
   "outputs": [],
   "source": [
    "def create_flag_link(row):\n",
    "    flag_link = 'https://www.countryflags.io/' + row + '/flat/64.png'\n",
    "    return flag_link\n",
    "\n",
    "doc_final_country['iso2'] = doc_final_country['iso2'].apply(create_flag_link)"
   ]
  },
  {
   "cell_type": "code",
   "execution_count": null,
   "metadata": {},
   "outputs": [],
   "source": [
    "doc_final_country.head()"
   ]
  },
  {
   "cell_type": "markdown",
   "metadata": {},
   "source": [
    "### 데이터 포멧 확인하기\n",
    "<img src=\"https://www.fun-coding.org/00_Images/covid_ex_data_format.jpg\" />"
   ]
  },
  {
   "cell_type": "markdown",
   "metadata": {},
   "source": [
    "### 데이터프레임 컬럼 조정하기"
   ]
  },
  {
   "cell_type": "markdown",
   "metadata": {},
   "source": [
    "#### 1. 데이터프레임에서 필요한 컬럼만 선택하기\n",
    "- 데이터프레임.columns.tolist() : 컬럼명을 리스트로 변환"
   ]
  },
  {
   "cell_type": "code",
   "execution_count": null,
   "metadata": {},
   "outputs": [],
   "source": [
    "cols = doc_final_country.columns.tolist()\n",
    "cols"
   ]
  },
  {
   "cell_type": "markdown",
   "metadata": {},
   "source": [
    "#### 데이터프레임 컬럼 위치 변경"
   ]
  },
  {
   "cell_type": "code",
   "execution_count": null,
   "metadata": {},
   "outputs": [],
   "source": [
    "cols.remove('iso2')\n",
    "cols.insert(1, 'iso2')"
   ]
  },
  {
   "cell_type": "code",
   "execution_count": null,
   "metadata": {},
   "outputs": [],
   "source": [
    "doc_final_country = doc_final_country[cols]"
   ]
  },
  {
   "cell_type": "code",
   "execution_count": null,
   "metadata": {
    "scrolled": true
   },
   "outputs": [],
   "source": [
    "doc_final_country.head()"
   ]
  },
  {
   "cell_type": "markdown",
   "metadata": {},
   "source": [
    "#### 컬럼명 변경"
   ]
  },
  {
   "cell_type": "code",
   "execution_count": null,
   "metadata": {},
   "outputs": [],
   "source": [
    "cols[1] = 'Country_Flag'"
   ]
  },
  {
   "cell_type": "code",
   "execution_count": null,
   "metadata": {},
   "outputs": [],
   "source": [
    "doc_final_country.columns = cols\n",
    "doc_final_country.head()"
   ]
  },
  {
   "cell_type": "markdown",
   "metadata": {},
   "source": [
    "### 최종 가공 완료 파일 저장"
   ]
  },
  {
   "cell_type": "code",
   "execution_count": null,
   "metadata": {},
   "outputs": [],
   "source": [
    "doc_final_country.to_csv(\"COVID-19-master/final_covid_data_for_graph.csv\")"
   ]
  },
  {
   "cell_type": "markdown",
   "metadata": {},
   "source": [
    "### 그래프 만들기\n",
    "- https://app.flourish.studio/ 로그인\n",
    "- New visualization 선택 -> Bar Chart Race 선택 -> 데이터 수정 (파일 업로드)"
   ]
  },
  {
   "cell_type": "code",
   "execution_count": null,
   "metadata": {},
   "outputs": [],
   "source": []
  }
 ],
 "metadata": {
  "kernelspec": {
   "display_name": "Python 3",
   "language": "python",
   "name": "python3"
  },
  "language_info": {
   "codemirror_mode": {
    "name": "ipython",
    "version": 3
   },
   "file_extension": ".py",
   "mimetype": "text/x-python",
   "name": "python",
   "nbconvert_exporter": "python",
   "pygments_lexer": "ipython3",
   "version": "3.7.6"
  }
 },
 "nbformat": 4,
 "nbformat_minor": 4
}
