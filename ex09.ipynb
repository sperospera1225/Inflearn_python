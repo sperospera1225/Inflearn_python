{
 "cells": [
  {
   "cell_type": "code",
   "execution_count": 6,
   "metadata": {},
   "outputs": [
    {
     "name": "stdout",
     "output_type": "stream",
     "text": [
      "Results\n",
      "Python Documentation by Version\n",
      "Download Python for Other Platforms\n",
      "Release – Python 2.5.3\n",
      "Python 2.5.4 Release\n",
      "Release – Python 2.5.4\n",
      "Python 2.5.3 Release\n",
      "Python 2.5 Release\n",
      "Python 2.5.2 Release\n",
      "Sunsetting Python 2\n",
      "Python 2.5.1 Release\n",
      "Release – Python 3.1.4\n",
      "Release – Python 2.5.0\n",
      "Release – Python 2.5.2\n",
      "Python 3.1.4 Release\n",
      "Python 3.1.3 Release\n",
      "Release – Python 2.5.1\n",
      "Python 3.2.1 Release\n",
      "Release – Python 2.7.9rc1\n",
      "Python 3.0 Release\n",
      "Python 3.2.5 Release\n"
     ]
    }
   ],
   "source": [
    "from selenium import webdriver\n",
    "from selenium.webdriver.common.keys import Keys\n",
    "import time\n",
    "\n",
    "driver = webdriver.Chrome('D:/chromedriver_win32/chromedriver.exe')\n",
    "driver.get(\"http://www.python.org\")\n",
    "assert 'Python' in driver.title\n",
    "\n",
    "elem = driver.find_element_by_name(\"q\")\n",
    "elem.clear()\n",
    "elem.send_keys(\"python\")\n",
    "elem.send_keys(Keys.RETURN)\n",
    "\n",
    "assert \"No results found\" not in driver.page_source\n",
    "time.sleep(2)\n",
    "\n",
    "h3s = driver.find_elements_by_tag_name(\"h3\")\n",
    "for h3 in h3s:\n",
    "    print(h3.text)\n",
    "\n",
    "driver.quit()"
   ]
  },
  {
   "cell_type": "code",
   "execution_count": 8,
   "metadata": {},
   "outputs": [
    {
     "name": "stdout",
     "output_type": "stream",
     "text": [
      "Welcome to Python.org\n",
      "https://www.python.org/\n"
     ]
    }
   ],
   "source": [
    "from selenium import webdriver\n",
    "from selenium.webdriver.common.keys import Keys\n",
    "import time\n",
    "\n",
    "driver = webdriver.Chrome('D:/chromedriver_win32/chromedriver.exe')\n",
    "driver.get(\"http://www.python.org\")\n",
    "print(driver.title)\n",
    "print(driver.current_url)"
   ]
  },
  {
   "cell_type": "code",
   "execution_count": 18,
   "metadata": {},
   "outputs": [
    {
     "name": "stdout",
     "output_type": "stream",
     "text": [
      "Welcome to Python.org\n",
      "https://www.python.org/\n"
     ]
    }
   ],
   "source": [
    "from selenium import webdriver\n",
    "from selenium.webdriver.common.keys import Keys\n",
    "\n",
    "driver = webdriver.PhantomJS('D:/phantomjs-2.1.1-windows/bin/phantomjs.exe')\n",
    "driver.get(\"http://www.python.org\")\n",
    "print(driver.title)\n",
    "print(driver.current_url)"
   ]
  },
  {
   "cell_type": "code",
   "execution_count": 24,
   "metadata": {},
   "outputs": [
    {
     "name": "stdout",
     "output_type": "stream",
     "text": [
      "Welcome to Python.org\n",
      "https://www.python.org/\n"
     ]
    }
   ],
   "source": [
    "from selenium import webdriver\n",
    "from selenium.webdriver.common.keys import Keys\n",
    "\n",
    "headless_options = webdriver.ChromeOptions()\n",
    "headless_options.add_argument('headless')\n",
    "headless_options.add_argument('window-size=1920x1080')\n",
    "headless_options.add_argument('disable-gpu')\n",
    "headless_options.add_argument('User-Agent= Mozilla/5.0 (Windows NT 10.0; Win64; x64) AppleWebKit/537.36 (KHTML, like Gecko) Chrome/74.0.3729.169 Safari/537.36')\n",
    "headless_options.add_argument('lang=ko_KR')\n",
    "\n",
    "driver = webdriver.Chrome('D:/chromedriver_win32/chromedriver.exe', options = headless_options)\n",
    "\n",
    "\n",
    "driver.get(\"http://www.python.org\")\n",
    "print(driver.title)\n",
    "print(driver.current_url)"
   ]
  },
  {
   "cell_type": "code",
   "execution_count": 32,
   "metadata": {},
   "outputs": [
    {
     "name": "stdout",
     "output_type": "stream",
     "text": [
      "'포켓몬고' 상륙 1주일.. 대한민국 곳곳이 들썩\n",
      "'포켓몬고' 상륙 1주일.. 대한민국 곳곳이 들썩\n",
      "이용자수 700만명 육박 국민 10명중 1명이 경험\n",
      "전국 번화가.공원 '북적' 지역 상권도 후광효과\n",
      "출몰 잦은'포세권' 편의점 핫팩.간식 등 매출 급증\n",
      "지난달 24일 출시된 모바일게임 '포켓몬고'가 출시 1주일여만에 우리나라 거리 풍경을 크게 바꿔놨다. 번화가나 공원 등 거리 곳곳에서 손에 스마트폰을 들고 '포켓몬'을 사냥하는 모습을 손쉽게 찾아볼 수 있게 된 것이다.다른 국가에 비해 반년 가량 늦게 출시됐음에도 불구, 이용자 수가 700만명에 육박한 것으로 알려졌다. 우리나라 국민 10명 중 1명은 지난 1주일 사이에 한번은 포켓몬고 게임을 해봤다는 얘기다.\n",
      "\n",
      "지역경제 활성화에도 도움이 되고 있다. 포켓몬이 자주 출몰하는 지역으로 입소문을 탄 지역 편의점 매출이 급증하는 현상도 나타났다. 지난해 여름, 강원도 속초가 '포켓몬고' 특수를 톡톡히 누린 것과 비슷한 현상이 전국 곳곳에서 나타나고 있는 것이다.\n",
      "\n",
      "■우리 국민 10명 중 1명은 '포켓몬고' 게이머\n",
      "\n",
      "애플리케이션(앱) 분석업체 와이즈앱은 2일 전국 2만3000명의 안드로이드 스마트폰 사용자 표본조사를 바탕으로 추정한 지난 1주일간 '포켓몬고' 이용자는 698만명이라고 발표했다. 특히 10대와 20대 이용자들이 '포켓몬고'에 열광하고 있는 것으로 나타났다. 전체 이용자의 65% 이상이 10대와 20대다.\n",
      "\n",
      "이 게임 개발사인 나이언틱랩스가 설 연휴 직전에 출시한 전략도 제대로 맞아 떨어졌다. 지난 설 연휴, 고향에서 가족과 친지들이 모여 '포켓몬고'를 즐기는 모습이 곳곳에서 눈에 띄였다. 고속도로 휴게소 등에서도 포켓몬고 이용자들도 많았다.\n",
      "\n",
      "전국 번화가와 공원 등 게임 내 주요 장소인 '포켓스톱'으로 지정된 곳이 많은 지역은 '포켓몬고' 게이머들로 붐볐다. 서울 노원역, 이수역, 강남역, 잠실역 등 번화가와 부산 시민공원, 대전 오월드, 제천 의림지 등 전국 주요 장소로 '포켓몬'을 찾는 이들이 몰려들었다.\n",
      "\n",
      "지역 명소를 찾는 이들도 부쩍 늘었다. 주로 교회나 절, 조형물 등이 '포켓스톱'으로 지정돼 있기 때문에 평소에는 그냥 지나쳤던 명소를 다시 한번 돌아보게 되는 계기가 됐다는 게이머들도 많다.\n",
      "\n",
      "업계 관계자는 \"포켓스톱은 포켓몬고를 즐기기 위해 반드시 지나쳐야 하는 곳이기 때문에 평소엔 그냥 지나쳤더라도 요즘엔 멈춰서서 다시 한번 보는 경우가 많다\"며 \"겨울철이라 집안에만 있기 쉽지만 포켓몬고를 하기 위해 밖으로 걸어다니기 때문에 건강에도 긍정적\"이라고 언급했다.\n",
      "\n",
      "■'포켓몬고' 인기에 지역 상권도 '후광효과'\n",
      "\n",
      "포켓몬고는 지역 상권에도 영향을 주고 있다. '포켓몬'이 자주 출몰하는 이른바 '포세권'의 편의점은 후광효과를 톡톡히 보고 있다. 포켓몬을 쫓아온 게이머들이 대거 몰리면서 휴대폰 충전기와 핫팩은 물론 음료,간식 등의 매출이 쑥쑥 오르는 상황이다.\n",
      "\n",
      "세븐일레븐의 경우 포켓몬고 게임이 출시된 지난달 24일 이후 지난 1일까지 9일간 매출이 게임 출시 직전 9일에 비해 휴대폰 관련 용품 매출이 61.3%, 핫팩은 66.2%증가했다. 탄산음료와 컵라면,스낵과자도 같은 기간 매출이 33.5%,22%,16.3% 올랐다.\n",
      "\n",
      "'포세권'으로 입소문을 탄 부산시민공원점도 휴대용용품과 핫팩 매출이 각각 54%, 60.5% 늘었고 간식류 매출도 10~20% 증가했다. GS25의 대전오월드점은 같은 기간 커피와 차는 매출이 420%, 휴대폰 용품과 핫팩은 각각 271%, 268% 급증했다. 라면(46%)을 비롯한 간식류 매출도 크게 늘었다.\n",
      "\n",
      "세븐일레븐 관계자는 \"포켓몬고 이용자들이 많이 몰리는 지역 점포들의 관련 상품 매출이 크게 오르고 있다\"면서 \"수요가 높은 상품군 위주로 재고를 늘리고 진열도 확대하는 등 포켓몬고 특수에 대응하고 있다\"고 말했다.\n",
      "\n",
      "■일부 부작용도 있어 '주의'\n",
      "\n",
      "게임이 인기를 끌면서 일부 부작용도 나타나고 있어 이용자들의 주의가 요구된다. 출입이 금지된 구역에 등장하는 '포켓몬'을 획득하기 위해 금지구역을 넘어서거나 운전하면서 포켓몬고를 즐기는 사례가 잇따라 보고되고 있다. 해외에서도 '포켓몬고' 출시 당시 이런 부작용이 속출했는데 우리나라도 비슷한 현상을 겪고 있는 것이다.\n",
      "\n",
      "나이언틱랩스는 특정 속도 이상 빠르게 움직이면 '포켓몬'을 사냥할 수 없도록 하고 게임 도중 출입금지 구역에 가지 말라고 여러차례 공지하고 있다.\n",
      "\n",
      "jjoony@fnnews.com 허준 이환주 기자\n",
      "※ 저작권자 ⓒ . 무단 전재-재배포 금지\n"
     ]
    }
   ],
   "source": [
    "from selenium import webdriver\n",
    "from selenium.webdriver.common.keys import Keys\n",
    "import time\n",
    "\n",
    "headless_options = webdriver.ChromeOptions()\n",
    "headless_options.add_argument('headless')\n",
    "headless_options.add_argument('window-size=1920x1080')\n",
    "headless_options.add_argument('disable-gpu')\n",
    "headless_options.add_argument('User-Agent= Mozilla/5.0 (Windows NT 10.0; Win64; x64) AppleWebKit/537.36 (KHTML, like Gecko) Chrome/74.0.3729.169 Safari/537.36')\n",
    "headless_options.add_argument('lang=ko_KR')\n",
    "\n",
    "driver = webdriver.Chrome('D:/chromedriver_win32/chromedriver.exe', options = headless_options)\n",
    "\n",
    "driver.get('https://news.v.daum.net/v/20170202185812986')\n",
    "\n",
    "head_title = driver.find_element_by_css_selector('head > title')\n",
    "print(head_title.get_attribute('text'))\n",
    "\n",
    "title = driver.find_element_by_tag_name('h3')\n",
    "print(title.text)\n",
    "\n",
    "content = driver.find_element_by_id('harmonyContainer')\n",
    "print(content.text)\n",
    "\n",
    "driver.quit()"
   ]
  },
  {
   "cell_type": "code",
   "execution_count": 2,
   "metadata": {},
   "outputs": [
    {
     "name": "stdout",
     "output_type": "stream",
     "text": [
      "홈\n",
      "사회\n",
      "정치\n",
      "경제\n",
      "국제\n",
      "문화\n",
      "IT\n",
      "랭킹\n",
      "연재\n",
      "포토\n",
      "TV\n",
      "1boon\n",
      "갤러리\n",
      "서울\n",
      "서울 25 ℃\n"
     ]
    }
   ],
   "source": [
    "from selenium import webdriver\n",
    "from selenium.webdriver.common.keys import Keys\n",
    "import time\n",
    "\n",
    "headless_options = webdriver.ChromeOptions()\n",
    "headless_options.add_argument('headless')\n",
    "headless_options.add_argument('window-size=1920x1080')\n",
    "headless_options.add_argument('disable-gpu')\n",
    "headless_options.add_argument('User-Agent= Mozilla/5.0 (Windows NT 10.0; Win64; x64) AppleWebKit/537.36 (KHTML, like Gecko) Chrome/74.0.3729.169 Safari/537.36')\n",
    "headless_options.add_argument('lang=ko_KR')\n",
    "\n",
    "driver = webdriver.Chrome('D:/chromedriver_win32/chromedriver.exe', options = headless_options)\n",
    "\n",
    "driver.get('https://news.v.daum.net/v/20170202180355822')\n",
    "#특정태그의 속성의 값이 navigation인 것\n",
    "head_title = driver.find_element_by_css_selector(\"div[role='navigation']\")\n",
    "#특정태그에 특정속성이 있는 것\n",
    "head_title = driver.find_element_by_css_selector(\"div[role]\")\n",
    "\n",
    "print(head_title.text)\n",
    "driver.quit()"
   ]
  },
  {
   "cell_type": "code",
   "execution_count": 10,
   "metadata": {},
   "outputs": [],
   "source": [
    "from selenium import webdriver\n",
    "from selenium.webdriver.common.keys import Keys\n",
    "import time\n",
    "\n",
    "headless_options = webdriver.ChromeOptions()\n",
    "headless_options.add_argument('headless')\n",
    "headless_options.add_argument('window-size=1920x1080')\n",
    "headless_options.add_argument('disable-gpu')\n",
    "headless_options.add_argument('User-Agent= Mozilla/5.0 (Windows NT 10.0; Win64; x64) AppleWebKit/537.36 (KHTML, like Gecko) Chrome/74.0.3729.169 Safari/537.36')\n",
    "headless_options.add_argument('lang=ko_KR')\n",
    "\n",
    "driver = webdriver.Chrome('D:/chromedriver_win32/chromedriver.exe', options = headless_options)\n",
    "\n",
    "driver.get('https://www.twitter.com')\n",
    "\n",
    "elem = driver.find_element_by_name(\"session[username_or_email]\")\n",
    "elem.clear()\n",
    "elem.send_keys(\"nofok59823@tmauv.com\")\n",
    "elem = driver.find_element_by_name(\"session[password]\")\n",
    "elem.send_keys(\"jwjw0909\")\n",
    "elem.send_keys(Keys.RETURN)\n",
    "time.sleep(2)\n",
    "\n",
    "data = driver.find_elements_by_css_selector('div.css-1dbjc4n > div > div > div > div > div > article > div > div > div > div > div > div > div > div > span')\n",
    "for item in data:\n",
    "    print (item.text, '\\n')\n",
    "\n",
    "driver.quit()"
   ]
  },
  {
   "cell_type": "markdown",
   "metadata": {},
   "source": [
    "### 동적 데이터 크롤링"
   ]
  },
  {
   "cell_type": "code",
   "execution_count": 38,
   "metadata": {},
   "outputs": [
    {
     "name": "stdout",
     "output_type": "stream",
     "text": [
      "[1]  중국은 좀 맞아야 됨\n",
      "자기들이 아직도 역사의 중심인줄 앎\n",
      "[2]  중국은 2천년이 넘게 한국을 핍박하고 과롭혔는데 한국사람들은 중국인에 호의적이다..그게 사대주의다..일본의 참략은 분노하면서 몇백년의 중국의 침략은 분노하지 않는다..오히려 요즘은 마국과 같은 우방과 중국을 동급시한다..어이없지 ~\n",
      "[3]  안그래도 땅덩어리 넓은 나라가 주변국들한테 왜이렇게 관심이 많은지 ㅋㅋㅋㅋㅋㅋ 지들 땅덩어리도 관리가 잘 안되면서 욕심만 많아가지고 ㅉㅉ 그렇게 해서 성공하는 것도 아니고 미국에 명분만 쌓이게 해주고 주변국 적으로 만들고 ㅋㅋㅋ 무식한 짱깨들... 니들 가진 땅부터 제대로 써라\n",
      "[4]  이번에 🇨🇳 해양진출 싹을 잘라야 한다 \n",
      "🇨🇳  억지도 이런 억지가 없다\n",
      "이러하니 🇨🇳 한테 동조하는 나라기 없다는것을 \n",
      "🇨🇳 공산당만 모른다\n",
      "[5]  세계의 경찰국가\n",
      "\n",
      "미국\n",
      "\n",
      "현재 강대국중 그나마 제일 낫다\n",
      "\n",
      "남중국해는 국제수역으로 차라리 미국이 관리해라\n",
      "\n",
      "누구도 영유권 인정해주지 마라\n",
      "[6]  중꾹 본국에서 보다, 타국 지역에서 더 가까운 암초,환초 등에 대규모 인공시설을 지어서 자기네 땅, 섬이라고 우기며, 군사기지로 건설 무력으로 여러국가를 위협하는, 해적 중국국가임.\n",
      "[7]  하여간 중국노ㅁ들은 하는 짓거리마다 도둑노ㅁ 심보따리다.\n",
      "먹을것 먹지 말아야 하는것을 구별하지않고 다 처 먹고 싶어한다. 더런.\n",
      "[8]  자신은 모든 국제법 다 어기면서\n",
      "\n",
      "불리할 때에만 국제법 타령하는 중국은 당연히 그 어떤 국가도 손 내밀지 않는다.\n",
      "\n",
      "천멸중공!!\n",
      "[9]  떼놈들 욕심에 세계가 비틀거리는거다. 이참에 연합군을 결성해서라도 남중국해 뿐만이 아니고 \n",
      "티벳, 위구르 등도 독립할 수 있게 해야 한다.\n",
      "[10]  해야한다\n",
      "남중국해는 바로 공해다\n",
      "누구의 바다도아닌 지구인 모두의바다다\n",
      "어따대고 헷소리인가!~\n",
      "세계의바다를 구할려는\n",
      "미국을 적극 지지한다\n",
      "[11]  말이 안통하니 줘패야되지! ㅋㅋㅋ\n",
      "아주 전 세계로부터 고립시켜야 한다! 다신 기어나오지 못하게!\n",
      "[12]  미국이 남중국해에서 국지전 벌려  승리를 얻은후\n",
      "\n",
      "전쟁 배상금 같은 명목을 중국과 협상으로 경제권 \n",
      "\n",
      "장악.. (플라자 합의같은..)\n",
      "\n",
      "미국이 이 불황을 극복할 방법은 하나 뿐이지.\n",
      "\n",
      "잘하는 특기를 발휘해서 더 잘하는것\n",
      "[13]  때로는 법 보다 주먹이 우선이 될 수도 있다!\n",
      "[14]  아니 지도 모양을 봐라...주변국들 저렇게 많은데 중국이 깊은 U자로 저렇게 많이 가져가는 게 상식적으로 말이 되는지...\n",
      "[15]  짱꼴라 시키들 아주 웃기는 넘들이네\n",
      "어떻게 남의 나라 앞 바다를 자기땅이라고 선을긋고 ♪~이여?\n",
      "[16]  짱깨놈들아!  니들이  주장하는  식으로하면  때평양  절반은  미국  꺼   대서양  절반은  영국 꺼다\n",
      "[17]  중국 놈들은 욕심이 너무 과하다. 남중국해 9단선 저게 말이나 되나? 미국이 대만이나 필리핀 수빅에서 군기지를 빼낸 것은 너무 성급한 결정이었다. 필리핀에서는 반미 여론이 불어서 그렇다치지만 대만에서는 철수한 건 뼈아픈 결정일 것임.\n"
     ]
    }
   ],
   "source": [
    "from selenium import webdriver\n",
    "from selenium.webdriver.support.ui import WebDriverWait\n",
    "from selenium.webdriver.support import expected_conditions as EC\n",
    "from selenium.webdriver.common.by import By\n",
    "from selenium.common.exceptions import TimeoutException\n",
    "import time\n",
    "\n",
    "driver = webdriver.Chrome('D:/chromedriver_win32/chromedriver.exe')\n",
    "driver.get('https://news.v.daum.net/v/20200728095717287')\n",
    "\n",
    "loop, count = True, 0\n",
    "\n",
    "while loop and count < 3: \n",
    "    try:\n",
    "        element = WebDriverWait(driver, 3).until(\n",
    "                EC.presence_of_element_located((By.CSS_SELECTOR, \"#alex-area > div > div > div > div.cmt_box > div.alex_more > button\"))\n",
    "        )\n",
    "        #more_button = driver.find_element_by_css_selector(\"#alex-area > div > div > div > div.cmt_box > div.alex_more > button\")\n",
    "        #webdriver.ActionChains(driver).click(more_button).perform()\n",
    "        element.click()\n",
    "        count += 1\n",
    "        time.sleep(2) # 현재의 더보기버튼이 사라지기도전에 try코드 실행될수 있기때문에\n",
    "    except TimeoutException:\n",
    "        loop = False\n",
    "        \n",
    "#div.cmt_info p\n",
    "comments = driver.find_elements_by_css_selector('ul.list_comment li div p')\n",
    "for num, comment in enumerate(comments):\n",
    "    print(\"[\"+str(num+1)+\"] \",comment.text)\n",
    "driver.quit()"
   ]
  },
  {
   "cell_type": "code",
   "execution_count": 31,
   "metadata": {},
   "outputs": [
    {
     "name": "stdout",
     "output_type": "stream",
     "text": [
      "이창진·김규성 등 활약..'호랑이군단' KIA는 지칠 겨를이 없다 [MK시선]\n",
      "이창진·김규성 등 활약..'호랑이군단' KIA는 지칠 겨를이 없다 [MK시선]\n"
     ]
    }
   ],
   "source": [
    "from selenium import webdriver\n",
    "\n",
    "headless_options = webdriver.ChromeOptions()\n",
    "headless_options.add_argument('headless')\n",
    "headless_options.add_argument('window-size=1920x1080')\n",
    "headless_options.add_argument('disable-gpu')\n",
    "headless_options.add_argument('User-Agent= Mozilla/5.0 (Windows NT 10.0; Win64; x64) AppleWebKit/537.36 (KHTML, like Gecko) Chrome/74.0.3729.169 Safari/537.36')\n",
    "headless_options.add_argument('lang=ko_KR')\n",
    "\n",
    "driver = webdriver.Chrome('D:/chromedriver_win32/chromedriver.exe', options = headless_options)\n",
    "\n",
    "driver.get('https://sports.v.daum.net/v/20200728071201613')\n",
    "\n",
    "title = driver.find_element_by_xpath('//*[@id=\"cSub\"]/div/h3')\n",
    "print(title.text)\n",
    "\n",
    "head = driver.find_element_by_xpath('/html/head/title')\n",
    "print(head.get_attribute('text'))\n",
    "driver.quit()"
   ]
  },
  {
   "cell_type": "code",
   "execution_count": 36,
   "metadata": {},
   "outputs": [],
   "source": [
    "from selenium import webdriver\n",
    "from selenium.webdriver.support.ui import WebDriverWait\n",
    "from selenium.webdriver.support import expected_conditions as EC\n",
    "from selenium.webdriver.common.by import By\n",
    "import time\n",
    "\n",
    "driver = webdriver.Chrome('D:/chromedriver_win32/chromedriver.exe')\n",
    "driver.get('https://www.facebook.com/')\n",
    "\n",
    "user_name = '01025092861'\n",
    "password = 'wlsdnjs16521!'\n",
    "\n",
    "email_tag =  WebDriverWait(driver, 3).until(\n",
    "                EC.presence_of_element_located((By.XPATH, \"//*[@id='email']\"))\n",
    "        )\n",
    "password_tag = WebDriverWait(driver, 3).until(\n",
    "                EC.presence_of_element_located((By.XPATH, \"//*[@id='pass']\"))\n",
    "        )\n",
    "login_button_tag = WebDriverWait(driver, 3).until(\n",
    "                EC.presence_of_element_located((By.XPATH, \"//*[@id='u_0_e']\"))\n",
    "        )\n",
    "\n",
    "#a = driver.find_element_by_xpath(\"//*[@id='email']\")\n",
    "#b = driver.find_element_by_xpath(\"//*[@id='pass']\")\n",
    "#c = driver.find_element_by_xpath(\"//*[@id='u_0_e']\")\n",
    "\n",
    "#a.send_keys(user_name)\n",
    "#b.send_keys(password)\n",
    "#c.click()\n",
    "\n",
    "email_tag.clear()\n",
    "email.tag.send_keys(user_name)\n",
    "password_tag.clear()\n",
    "password_tag.send_keys(password)\n",
    "login_button_tag.click()\n",
    "\n",
    "time.sleep(3)"
   ]
  },
  {
   "cell_type": "code",
   "execution_count": 52,
   "metadata": {},
   "outputs": [
    {
     "name": "stdout",
     "output_type": "stream",
     "text": [
      "['탄소 발자국을 줄이는 나이키 신발 ', '5187']\n",
      "['한 번 가볼 텐가? 텐가 팝업스토어 ', '4554']\n",
      "['메가박스는 계획이 다 있구나 : 기생충 스페셜 오리지널 티켓', '4035']\n",
      "['구글 지도에서 교통 정체를 직접 컨트롤하는 방법?!', '3908']\n",
      "['그래픽 전문가를 위한 게이밍 노트북 RAZER BLADE  STUDIO EDITION', '3941']\n",
      "['말귀를 알아듣는 로봇청소기 LG 코드제로 씽큐 R 보이스', '3710']\n",
      "['우주에서 날아온 듯한 뱅앤올룹슨 스타더스트 블루 한정판', '4239']\n",
      "['블루투스 추적기 치폴로 원', '3643']\n",
      "['지문으로 보안 강화시킨 삼성 T 터치', '3755']\n",
      "['Wi-Fi 와 Mesh로 무장한 프리미엄 공유기 : 벨롭 MX ', '3744']\n",
      "['우버와 현대자동차의 만남 ', '3890']\n",
      "['곧 출시 SELFIETYPE ', '4062']\n",
      "['에이서가 공개한 프리미엄 게이밍 모니터 종 ', '3856']\n",
      "['위딩스의 스마트 혈압측정기 ', '3820']\n",
      "['콘솔 전용 게이밍 헤드셋, 터틀 비치의 국내 상륙', '1485']\n"
     ]
    }
   ],
   "source": [
    "from selenium import webdriver\n",
    "import re\n",
    "import time\n",
    "items = list()\n",
    "driver = webdriver.Chrome('D:/chromedriver_win32/chromedriver.exe')\n",
    "driver.get(\"https://seeko.earlyadopter.co.kr/bbs/board.php?bo_table=mainnews\")\n",
    "\n",
    "articles = driver.find_elements_by_xpath(\"//*[@id='fboardlist']/div/ul/li/div[@class='wr-subject']/a\")\n",
    "number = driver.find_elements_by_xpath(\"//*[@id='fboardlist']/div/ul/li/div[@class='wr-hit hidden-xs']\")\n",
    "\n",
    "for index, article in enumerate(articles):\n",
    "    items.append([re.sub('[0-9]+', '', article.text), number[index].text])\n",
    "    \n",
    "for item in items:\n",
    "    print(item)\n"
   ]
  },
  {
   "cell_type": "code",
   "execution_count": null,
   "metadata": {},
   "outputs": [],
   "source": []
  },
  {
   "cell_type": "code",
   "execution_count": null,
   "metadata": {},
   "outputs": [],
   "source": []
  },
  {
   "cell_type": "code",
   "execution_count": null,
   "metadata": {},
   "outputs": [],
   "source": []
  }
 ],
 "metadata": {
  "kernelspec": {
   "display_name": "Python 3",
   "language": "python",
   "name": "python3"
  },
  "language_info": {
   "codemirror_mode": {
    "name": "ipython",
    "version": 3
   },
   "file_extension": ".py",
   "mimetype": "text/x-python",
   "name": "python",
   "nbconvert_exporter": "python",
   "pygments_lexer": "ipython3",
   "version": "3.7.6"
  }
 },
 "nbformat": 4,
 "nbformat_minor": 4
}
