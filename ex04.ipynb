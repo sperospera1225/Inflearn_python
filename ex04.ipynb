{
 "cells": [
  {
   "cell_type": "code",
   "execution_count": 4,
   "metadata": {},
   "outputs": [
    {
     "name": "stdout",
     "output_type": "stream",
     "text": [
      "맥스트, 산업용 증강현실 서비스 ‘MAXWORK’ 정식 출시\n",
      "http://www.asiaarts.net/view.php?ud=202007071000552794f6c6ba27d3_38\n"
     ]
    }
   ],
   "source": [
    "import json\n",
    "data =\"\"\"\n",
    "{\n",
    "    \"lastBuildDate\": \"Tue, 07 Jul 2020 10:55:18 +0900\",\n",
    "    \"total\": 22215,\n",
    "    \"start\": 1,\n",
    "    \"display\": 10,\n",
    "    \"items\": [\n",
    "        {\n",
    "            \"title\": \"맥스트, 산업용 증강현실 서비스 ‘MAXWORK’ 정식 출시\",\n",
    "            \"originallink\": \"http://www.asiaarts.net/view.php?ud=202007071000552794f6c6ba27d3_38\",\n",
    "            \"link\": \"http://www.asiaarts.net/view.php?ud=202007071000552794f6c6ba27d3_38\",\n",
    "            \"description\": \"‘MAXWORK’는 크로스플랫폼 서비스로서 iOS-<b>Android</b>-Web을 포함한 모든 OS(운영 체제)에서 사용이 가능하고, 스마트 글라스도 지원한다. 또한 기업 내부뿐 아니라 국내·외 고객사와의 협업에도 사용할 수 있어 다양한... \",\n",
    "            \"pubDate\": \"Tue, 07 Jul 2020 10:36:00 +0900\"\n",
    "        },\n",
    "        {\n",
    "            \"title\": \"맥스트, 산업용 증강현실 서비스 ‘MAXWORK’ 정식 출시\",\n",
    "            \"originallink\": \"http://www.beyondpost.co.kr/view.php?ud=20200707080411972246a9e4dd7f_30\",\n",
    "            \"link\": \"http://www.beyondpost.co.kr/view.php?ud=20200707080411972246a9e4dd7f_30\",\n",
    "            \"description\": \"‘MAXWORK’는 크로스플랫폼 서비스로서 iOS-<b>Android</b>-Web을 포함한 모든 OS(운영 체제)에서 사용이 가능하고, 스마트 글라스도 지원한다. 또한 기업 내부뿐 아니라 국내·외 고객사와의 협업에도 사용할 수 있어 다양한... \",\n",
    "            \"pubDate\": \"Tue, 07 Jul 2020 08:06:00 +0900\"\n",
    "        },\n",
    "        {\n",
    "            \"title\": \"YouTube’s Power of the Purse\",\n",
    "            \"originallink\": \"https://www.nytimes.com/2020/07/06/technology/youtube-online-harassment.html?partner=naver\",\n",
    "            \"link\": \"https://www.nytimes.com/2020/07/06/technology/youtube-online-harassment.html?partner=naver\",\n",
    "            \"description\": \"An Apple or <b>Android</b> smartphone for setting up Alexa to talk to the smart plug. Here’s what to do: On your smartphone, download the Kasa app. Open the Kasa app and register for an account. Once... \",\n",
    "            \"pubDate\": \"Tue, 07 Jul 2020 02:09:00 +0900\"\n",
    "        },\n",
    "        {\n",
    "            \"title\": \"캐딜락, CT5ㆍCT4 사전계약 실시..9월 출시 예정\",\n",
    "            \"originallink\": \"http://www.edaily.co.kr/news/newspath.asp?newsid=02837206625831896\",\n",
    "            \"link\": \"https://news.naver.com/main/read.nhn?mode=LSD&mid=sec&sid1=103&oid=018&aid=0004682245\",\n",
    "            \"description\": \"오토(<b>Android</b> Auto)를 기본적으로 제공하며, 앞좌석 히팅 및 통풍, 마사지 시트, 다양한 원격제어... 오토(<b>Android</b> Auto)를 통해 모바일 커넥티비티를 높여 젊은 고객들이 디지털 기반의 편리한 제어를... \",\n",
    "            \"pubDate\": \"Mon, 06 Jul 2020 14:20:00 +0900\"\n",
    "        },\n",
    "        {\n",
    "            \"title\": \"솔로몬 닷컴, LG전자 외장형CD롬 랜덤박스 사은품증정 이벤트 진행\",\n",
    "            \"originallink\": \"http://www.cctvnews.co.kr/news/articleView.html?idxno=205144\",\n",
    "            \"link\": \"http://www.cctvnews.co.kr/news/articleView.html?idxno=205144\",\n",
    "            \"description\": \"KP96MFOR <b>ANDROID</b>시리즈는 2천대만 출시하는 스페셜 모델로 희소성을 가진 기획 상품으로, 희소성의 가치를 중요시 여기는 소비자에게는 좋은 소식을 전하고 있다. 이벤트의 자세한 내용은 SSG, CJ몰, 옥션... \",\n",
    "            \"pubDate\": \"Mon, 06 Jul 2020 10:34:00 +0900\"\n",
    "        },\n",
    "        {\n",
    "            \"title\": \"[글로벌-Biz 24] G메일 사용자에 스팸 메시지 폭탄\",\n",
    "            \"originallink\": \"http://www.g-enews.com/ko-kr/news/article/news_all/2020070608323742346336258971_1/article.html\",\n",
    "            \"link\": \"http://www.g-enews.com/ko-kr/news/article/news_all/2020070608323742346336258971_1/article.html\",\n",
    "            \"description\": \"이 문제는 안드로이드 폴리스(<b>Android</b> Police)에 의해 처음 보고됐다. 한 명의 사용자가 G메일 스팸 필터가 고장났다는 메시지를 게재했으며 이어 &quot;G메일의 스팸 필터와 카테고리 기능이 완전히 기능을 상실한 듯 모든 메일이... \",\n",
    "            \"pubDate\": \"Mon, 06 Jul 2020 09:11:00 +0900\"\n",
    "        },\n",
    "        {\n",
    "            \"title\": \"타임세일, '에이페론 3종' 30% 할인 이벤트 진행\",\n",
    "            \"originallink\": \"http://www.cstimes.com/news/articleView.html?idxno=420832\",\n",
    "            \"link\": \"http://www.cstimes.com/news/articleView.html?idxno=420832\",\n",
    "            \"description\": \"현재 모바일 웹과 iOS 앱, <b>Android</b> 앱 서비스에서 만나볼 수 있는 타임세일의 서비스 플랫폼에는 약 2만3400개의 제품이 등록돼 있다. 회원에게 주어지는 혜택과 더불어 특허받은 알고리즘 기술로 일반 판매방식과 비교해... \",\n",
    "            \"pubDate\": \"Mon, 06 Jul 2020 09:00:00 +0900\"\n",
    "        },\n",
    "        {\n",
    "            \"title\": \"타임세일, 온라인플랫폼 부문 수상 기념 에이페론 3종 30% 할인 이벤트 실시\",\n",
    "            \"originallink\": \"http://famtimes.co.kr/news/view/499129\",\n",
    "            \"link\": \"http://famtimes.co.kr/news/view/499129\",\n",
    "            \"description\": \"유명브랜드 제휴, 제품 생산자와 다이렉트소싱을 통한 상품 공급 등으로 회원들의 즐거운 쇼핑생활을 지원한다.현재 모바일 웹과 iOS 앱, <b>Android</b> 앱 서비스에서 만나볼 수 있는 타임세일의 서비스 플랫폼에는 약... \",\n",
    "            \"pubDate\": \"Mon, 06 Jul 2020 09:00:00 +0900\"\n",
    "        },\n",
    "        {\n",
    "            \"title\": \"타임세일, 온라인 부문 고객만족도 1위…에이페론 3종 할인 이벤트 진행\",\n",
    "            \"originallink\": \"http://www.eduinnews.co.kr/news/articleView.html?idxno=30910\",\n",
    "            \"link\": \"http://www.eduinnews.co.kr/news/articleView.html?idxno=30910\",\n",
    "            \"description\": \"유명브랜드 제휴, 제품 생산자와 다이렉트소싱을 통한 상품 공급 등으로 회원들의 즐거운 쇼핑생활을 지원한다.현재 모바일 웹과 iOS 앱, <b>Android</b> 앱 서비스에서 만나볼 수 있는 타임세일의 서비스 플랫폼에는 약... \",\n",
    "            \"pubDate\": \"Mon, 06 Jul 2020 09:00:00 +0900\"\n",
    "        },\n",
    "        {\n",
    "            \"title\": \"타임세일, 온라인 부문 고객만족도 1위 기념 할인 이벤트 실시\",\n",
    "            \"originallink\": \"http://research-paper.co.kr/news/view/274095\",\n",
    "            \"link\": \"http://research-paper.co.kr/news/view/274095\",\n",
    "            \"description\": \"유명브랜드 제휴, 제품 생산자와 다이렉트소싱을 통한 상품 공급 등으로 회원들의 즐거운 쇼핑생활을 지원한다.현재 모바일 웹과 iOS 앱, <b>Android</b> 앱 서비스에서 만나볼 수 있는 타임세일의 서비스 플랫폼에는 약... \",\n",
    "            \"pubDate\": \"Mon, 06 Jul 2020 09:00:00 +0900\"\n",
    "        }\n",
    "    ]\n",
    "}\n",
    "\"\"\"\n",
    "\n",
    "json_data = json.loads(data)\n",
    "print(json_data['items'][0]['title'])\n",
    "print(json_data['items'][0]['link'])"
   ]
  },
  {
   "cell_type": "markdown",
   "metadata": {},
   "source": [
    "# 네이버 Open API 사용하기"
   ]
  },
  {
   "cell_type": "code",
   "execution_count": 33,
   "metadata": {},
   "outputs": [
    {
     "name": "stdout",
     "output_type": "stream",
     "text": [
      "1. MLB 남여공용 로고 커버핏 볼캡 32CP77841 https://search.shopping.naver.com/gate.nhn?id=20859139051\n",
      "2. 소이 볼캡 패션모자 워싱캡 <b>야구</b>모자 NYC1987 https://search.shopping.naver.com/gate.nhn?id=21738678174\n",
      "3. 나이키 NSW H86 퓨추라 워시드 캡 913011-100 https://search.shopping.naver.com/gate.nhn?id=21820425225\n",
      "4. 뉴발란스 인조잔디화  T4040-AK5 https://search.shopping.naver.com/gate.nhn?id=21463678744\n",
      "5. 47브랜드 LA다저스 볼캡 모자 https://search.shopping.naver.com/gate.nhn?id=12436244690\n",
      "6. 폴로랄프로렌 포니로고 <b>야구</b> 모자 남녀공용 26컬러 https://search.shopping.naver.com/gate.nhn?id=19342389367\n",
      "7. 나이키 남녀공용 스포츠웨어 H86 퓨추라 워시드 캡 913011  010 https://search.shopping.naver.com/gate.nhn?id=22190820790\n",
      "8. 폰메이트 남자 여자 공용 빅사이즈 무지볼캡 https://search.shopping.naver.com/gate.nhn?id=21347463404\n",
      "9. 나이키 H86 퓨추라 워시드 볼캡 네이비 913011-451 https://search.shopping.naver.com/gate.nhn?id=20827570488\n",
      "10. 나이키 스우시 드라이핏 캡 548533 https://search.shopping.naver.com/gate.nhn?id=22793151435\n"
     ]
    }
   ],
   "source": [
    "import requests\n",
    "# import pprint\n",
    "\n",
    "client_Id = 'AHdfnn0aD4yTmjFuAHmD'\n",
    "client_secret = 'B7VVTFmKdi'\n",
    "header = {\"X-Naver-Client-Id\":client_Id, \"X-Naver-Client-Secret\":client_secret}\n",
    "naver_open_api = 'https://openapi.naver.com/v1/search/shop.json?query=baseball'\n",
    "res = requests.get(naver_open_api, headers = header)\n",
    "\n",
    "if res.status_code == 200:\n",
    "    data = res.json()\n",
    "#     pprint.pprint(data) : 구조적으로 보기\n",
    "    for index, item in enumerate(data['items']):\n",
    "        print(str(index+1)+\".\", item['title'], item['link'])\n",
    "else:\n",
    "    print(\"Error Code:\",res.status_code)"
   ]
  },
  {
   "cell_type": "code",
   "execution_count": null,
   "metadata": {},
   "outputs": [],
   "source": []
  }
 ],
 "metadata": {
  "kernelspec": {
   "display_name": "Python 3",
   "language": "python",
   "name": "python3"
  },
  "language_info": {
   "codemirror_mode": {
    "name": "ipython",
    "version": 3
   },
   "file_extension": ".py",
   "mimetype": "text/x-python",
   "name": "python",
   "nbconvert_exporter": "python",
   "pygments_lexer": "ipython3",
   "version": "3.7.6"
  }
 },
 "nbformat": 4,
 "nbformat_minor": 4
}
