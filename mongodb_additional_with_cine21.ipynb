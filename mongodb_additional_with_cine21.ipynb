{
 "cells": [
  {
   "cell_type": "markdown",
   "metadata": {},
   "source": [
    "## 1. mongodb 문법 실습\n",
    "\n",
    "* cine21 배우 랭킹 사이트 크롤링\n",
    "  - 사이트 주소: http://www.cine21.com/rank/person/\n",
    "  - 요청 방식 확인 방법: 크롬 개발자 모드로 들어가서, Network -> content 페이지의 요청 방식 확인\n",
    "    - Request URL: http://www.cine21.com/rank/person/content\n",
    "    - Request Method: POST\n",
    "    - Form data\n",
    "      - section = 'actor'\n",
    "      - period_start = '2018-08'\n",
    "      - gender = 'all'\n",
    "      - page = 3 "
   ]
  },
  {
   "cell_type": "markdown",
   "metadata": {},
   "source": [
    "#### 배우 랭킹 및 상세 정보 크롤링 및 mongodb 저장 (full source)"
   ]
  },
  {
   "cell_type": "code",
   "execution_count": null,
   "metadata": {},
   "outputs": [],
   "source": [
    "from bs4 import BeautifulSoup\n",
    "import requests\n",
    "import pymongo\n",
    "import re\n",
    "\n",
    "conn = pymongo.MongoClient()\n",
    "actor_db = conn.cine21\n",
    "actor_collection = actor_db.actor_collection\n",
    "\n",
    "actors_info_list = list()\n",
    "\n",
    "cine21_url = 'http://www.cine21.com/rank/person/content'\n",
    "post_data = dict()\n",
    "post_data['section'] = 'actor'\n",
    "post_data['period_start'] = '2018-08'\n",
    "post_data['gender'] = 'all'\n",
    "\n",
    "for index in range(1, 21):\n",
    "    post_data['page'] = index\n",
    "\n",
    "    res = requests.post(cine21_url, data=post_data)\n",
    "    soup = BeautifulSoup(res.content, 'html.parser')\n",
    "\n",
    "    actors = soup.select('li.people_li div.name')\n",
    "    hits = soup.select('ul.num_info > li > strong')\n",
    "    movies = soup.select('ul.mov_list')\n",
    "    rankings = soup.select('li.people_li > span.grade')\n",
    "    \n",
    "    for index, actor in enumerate(actors):\n",
    "        actor_name = re.sub('\\(\\w*\\)', '', actor.text)\n",
    "        actor_hits = int(hits[index].text.replace(',', ''))\n",
    "        movie_titles = movies[index].select('li a span')\n",
    "        movie_title_list = list()\n",
    "        for movie_title in movie_titles:\n",
    "            movie_title_list.append(movie_title.text)\n",
    "        actor_info_dict = dict()\n",
    "        actor_info_dict['배우이름'] = actor_name\n",
    "        actor_info_dict['흥행지수'] = actor_hits\n",
    "        actor_info_dict['출연영화'] = movie_title_list\n",
    "        actor_info_dict['랭킹'] = rankings[index].text\n",
    "\n",
    "        actor_link = 'http://www.cine21.com' + actor.select_one('a').attrs['href']\n",
    "        response_actor = requests.get(actor_link)\n",
    "        soup_actor = BeautifulSoup(response_actor.content, 'html.parser')\n",
    "        default_info = soup_actor.select_one('ul.default_info')\n",
    "        actor_details = default_info.select('li')\n",
    "\n",
    "        for actor_item in actor_details:\n",
    "            actor_item_field = actor_item.select_one('span.tit').text\n",
    "            actor_item_value = re.sub('<span.*?>.*?</span>', '', str(actor_item))\n",
    "            actor_item_value = re.sub('<.*?>', '', actor_item_value)\n",
    "            actor_info_dict[actor_item_field] = actor_item_value\n",
    "        actors_info_list.append(actor_info_dict)\n",
    "        \n",
    "actor_collection.insert_many(actors_info_list)"
   ]
  },
  {
   "cell_type": "markdown",
   "metadata": {},
   "source": [
    "#### mongodb 접속 기본 코드"
   ]
  },
  {
   "cell_type": "code",
   "execution_count": 1,
   "metadata": {},
   "outputs": [
    {
     "name": "stdout",
     "output_type": "stream",
     "text": [
      "{'_id': ObjectId('5f17c4855d03ae9996c59546'), '배우이름': '이병헌', '흥행지수': 46630, '출연영화': ['백두산', '남산의 부장들', '내부자들', '그것만이 내 세상', '광해, 왕이 된 남자', '번지점프를 하다'], '순위': '1', '다른 이름': 'Byung-hun Lee;BH Lee', '직업': '배우', '생년월일': '1970-07-12', '성별': '남', '홈페이지': '\\nhttp://www.leebyunghun.kr/\\n', '신장/체중': '177cm, 72kg', '학교': '한양대학교 불어문학과', '취미': '모자수집, 여행', '특기': '태권도, 스노우보드, 수영, 팔씨름'}\n",
      "{'_id': ObjectId('5f17c4855d03ae9996c59547'), '배우이름': '하정우', '흥행지수': 31716, '출연영화': ['백두산', '클로젯', '멋진 하루', '신과 함께-인과 연', '신과 함께-죄와 벌', '아가씨'], '순위': '2', '다른 이름': '김성훈; 河正宇', '직업': '배우', '생년월일': '1978-03-11', '성별': '남', '홈페이지': '\\nhttps://www.facebook.com/ft.hajungwoo\\n', '신장/체중': '184cm, 75kg', '학교': '중앙대학교 연극학 학사', '취미': '피아노, 검도, 수영'}\n",
      "{'_id': ObjectId('5f17c4855d03ae9996c59548'), '배우이름': '마동석', '흥행지수': 19381, '출연영화': ['나쁜 녀석들: 더 무비', '악인전', '노리개: 그녀의 눈물', '부당거래', '부산행', '신과 함께-인과 연'], '순위': '3', '다른 이름': 'Ma Dongseok', '직업': '배우', '생년월일': '1971-03-01', '성별': '남', '홈페이지': '\\nhttps://www.instagram.com/madongseok_/\\nhttps://twitter.com/madongseok12\\n', '신장/체중': '178cm, 100kg'}\n"
     ]
    }
   ],
   "source": [
    "from bs4 import BeautifulSoup\n",
    "import requests\n",
    "import pymongo\n",
    "import re\n",
    "\n",
    "conn = pymongo.MongoClient()\n",
    "actor_db = conn.cine21\n",
    "actor_collection = actor_db.actor_collection\n",
    "\n",
    "actor_collection.find_one({})\n",
    "docs = actor_collection.find({}).limit(3)\n",
    "for doc in docs:\n",
    "    print (doc)"
   ]
  },
  {
   "cell_type": "markdown",
   "metadata": {},
   "source": [
    "### 1.1. 컬럼명 변경 \n",
    "* 저장되 있는 mongodb 데이터의 컬럼명을 변경하는 방법\n",
    "* update_one()/update_many() 함수 활용"
   ]
  },
  {
   "cell_type": "code",
   "execution_count": 2,
   "metadata": {},
   "outputs": [
    {
     "data": {
      "text/plain": [
       "<pymongo.results.UpdateResult at 0x1d655abb908>"
      ]
     },
     "execution_count": 2,
     "metadata": {},
     "output_type": "execute_result"
    }
   ],
   "source": [
    "actor_collection.update_many ( {}, { '$rename': {'다른 이름':'다른이름'}} )"
   ]
  },
  {
   "cell_type": "code",
   "execution_count": 3,
   "metadata": {},
   "outputs": [
    {
     "name": "stdout",
     "output_type": "stream",
     "text": [
      "{'_id': ObjectId('5f17c4855d03ae9996c59546'), '배우이름': '이병헌', '흥행지수': 46630, '출연영화': ['백두산', '남산의 부장들', '내부자들', '그것만이 내 세상', '광해, 왕이 된 남자', '번지점프를 하다'], '순위': '1', '직업': '배우', '생년월일': '1970-07-12', '성별': '남', '홈페이지': '\\nhttp://www.leebyunghun.kr/\\n', '신장/체중': '177cm, 72kg', '학교': '한양대학교 불어문학과', '취미': '모자수집, 여행', '특기': '태권도, 스노우보드, 수영, 팔씨름', '다른이름': 'Byung-hun Lee;BH Lee'}\n",
      "{'_id': ObjectId('5f17c4855d03ae9996c59547'), '배우이름': '하정우', '흥행지수': 31716, '출연영화': ['백두산', '클로젯', '멋진 하루', '신과 함께-인과 연', '신과 함께-죄와 벌', '아가씨'], '순위': '2', '직업': '배우', '생년월일': '1978-03-11', '성별': '남', '홈페이지': '\\nhttps://www.facebook.com/ft.hajungwoo\\n', '신장/체중': '184cm, 75kg', '학교': '중앙대학교 연극학 학사', '취미': '피아노, 검도, 수영', '다른이름': '김성훈; 河正宇'}\n",
      "{'_id': ObjectId('5f17c4855d03ae9996c59548'), '배우이름': '마동석', '흥행지수': 19381, '출연영화': ['나쁜 녀석들: 더 무비', '악인전', '노리개: 그녀의 눈물', '부당거래', '부산행', '신과 함께-인과 연'], '순위': '3', '직업': '배우', '생년월일': '1971-03-01', '성별': '남', '홈페이지': '\\nhttps://www.instagram.com/madongseok_/\\nhttps://twitter.com/madongseok12\\n', '신장/체중': '178cm, 100kg', '다른이름': 'Ma Dongseok'}\n"
     ]
    }
   ],
   "source": [
    "docs = actor_collection.find({}).limit(3)\n",
    "for doc in docs:\n",
    "    print (doc)"
   ]
  },
  {
   "cell_type": "markdown",
   "metadata": {},
   "source": [
    "#### 참고: collection 변수명 변경"
   ]
  },
  {
   "cell_type": "code",
   "execution_count": null,
   "metadata": {},
   "outputs": [],
   "source": [
    "actor = actor_collection"
   ]
  },
  {
   "cell_type": "markdown",
   "metadata": {},
   "source": [
    "### 1.2 find의 다양한 문법 - sort"
   ]
  },
  {
   "cell_type": "code",
   "execution_count": 7,
   "metadata": {},
   "outputs": [
    {
     "name": "stdout",
     "output_type": "stream",
     "text": [
      "{'_id': ObjectId('5f17c4855d03ae9996c595ab'), '배우이름': '허율', '흥행지수': 2708, '출연영화': ['클로젯'], '순위': '102', '직업': '배우', '생년월일': '2009-06-26', '성별': '여'}\n",
      "{'_id': ObjectId('5f17c4855d03ae9996c595cb'), '배우이름': '김강훈', '흥행지수': 1838, '출연영화': ['엑시트', '변신'], '순위': '134', '직업': '배우', '생년월일': '2009-06-07', '성별': '남', '홈페이지': '\\nhttp://instagram.com/kanghoon.juwon\\n'}\n",
      "{'_id': ObjectId('5f17c4855d03ae9996c595ce'), '배우이름': '정지훈', '흥행지수': 1758, '출연영화': ['사자', '덕구', '신과 함께-인과 연'], '순위': '137', '직업': '배우', '생년월일': '2007-05-31', '성별': '남'}\n",
      "{'_id': ObjectId('5f17c4855d03ae9996c5959f'), '배우이름': '이지원', '흥행지수': 3255, '출연영화': ['히트맨', '개를 훔치는 완벽한 방법'], '순위': '90', '직업': '배우', '생년월일': '2006-08-30', '성별': '여'}\n",
      "{'_id': ObjectId('5f17c4855d03ae9996c5958f'), '배우이름': '이레', '흥행지수': 4298, '출연영화': ['반도', '너의 이름은.', '증인', '개를 훔치는 완벽한 방법'], '순위': '74', '직업': '배우', '생년월일': '2006-03-12', '성별': '여', '홈페이지': '\\nhttps://www.facebook.com/leere.vv/\\n'}\n",
      "{'_id': ObjectId('5f17c4855d03ae9996c59589'), '배우이름': '이재인', '흥행지수': 4464, '출연영화': ['봉오동 전투', '아워 바디', '사바하', '어른도감', '아이 캔 스피크'], '순위': '68', '직업': '배우', '생년월일': '2004-02-06', '성별': '여'}\n",
      "{'_id': ObjectId('5f17c4855d03ae9996c59571'), '배우이름': '성유빈', '흥행지수': 5828, '출연영화': ['봉오동 전투', '윤희에게', '생일', '아이 캔 스피크'], '순위': '44', '직업': '배우', '생년월일': '2000-07-25', '성별': '남', '홈페이지': '\\nhttps://www.facebook.com/%EC%84%B1%EC%9C%A0%EB%B9%88-1650644645187320/?fref=ts\\n'}\n",
      "{'_id': ObjectId('5f17c4855d03ae9996c59574'), '배우이름': '최성은', '흥행지수': 5682, '출연영화': ['시동'], '순위': '47', '직업': '배우', '생년월일': '1996-06-17', '성별': '여'}\n",
      "{'_id': ObjectId('5f17c4855d03ae9996c595b4'), '배우이름': '정혜린', '흥행지수': 2266, '출연영화': ['가장 보통의 연애'], '순위': '111', '직업': '배우', '생년월일': '1996-01-25', '성별': '여', '홈페이지': '\\nhttps://www.instagram.com/_puzre/\\n'}\n",
      "{'_id': ObjectId('5f17c4855d03ae9996c595a5'), '배우이름': '김혜준', '흥행지수': 3026, '출연영화': ['변신', '미성년'], '순위': '96', '직업': '배우', '생년월일': '1995-05-08', '성별': '여', '홈페이지': '\\nhttp://instagram.com/hyevelly0508\\n'}\n"
     ]
    }
   ],
   "source": [
    "docs = actor_collection.find({}).sort('생년월일', pymongo.DESCENDING).limit(10)\n",
    "for doc in docs:\n",
    "    print (doc)"
   ]
  },
  {
   "cell_type": "code",
   "execution_count": 6,
   "metadata": {},
   "outputs": [
    {
     "name": "stdout",
     "output_type": "stream",
     "text": [
      "{'_id': ObjectId('5f17c4855d03ae9996c595a9'), '배우이름': '신구', '흥행지수': 2882, '출연영화': ['천문: 하늘에 묻는다', '8월의 크리스마스', '비밥바룰라', '해빙'], '순위': '100', '직업': '배우', '생년월일': '1936-08-13', '성별': '남', '학교': '성균관대학교 국문학 (중퇴)', '취미': '골프, 조깅', '다른이름': '신순기'}\n",
      "{'_id': ObjectId('5f17c4855d03ae9996c59595'), '배우이름': '나문희', '흥행지수': 3826, '출연영화': ['감쪽같은 그녀', '정직한 후보', '아이 캔 스피크', '수상한 그녀'], '순위': '80', '직업': '배우', '생년월일': '1941-11-30', '성별': '여', '홈페이지': '\\nhttp://www.namuni.kr/\\n', '학교': '창덕여자고등학교'}\n",
      "{'_id': ObjectId('5f17c4855d03ae9996c59559'), '배우이름': '박인환', '흥행지수': 10871, '출연영화': ['엑시트', '봄날은 간다', '비밥바룰라', '기묘한 가족', '수상한 그녀'], '순위': '20', '직업': '배우', '생년월일': '1945-01-06', '성별': '남', '학교': '중앙대학교 연극영화과 학사'}\n",
      "{'_id': ObjectId('5f17c4855d03ae9996c59553'), '배우이름': '고두심', '흥행지수': 11714, '출연영화': ['엑시트'], '순위': '14', '직업': '배우', '생년월일': '1951-05-22', '성별': '여', '홈페이지': '\\nhttp://www.kodoosim.com/\\n', '신장/체중': '160cm', '학교': '제주여자고등학교'}\n",
      "{'_id': ObjectId('5f17c4855d03ae9996c595a2'), '배우이름': '안성기', '흥행지수': 3103, '출연영화': ['사자', '적도의 꽃', '황진이', '언니는 말괄량이', '부러진 화살', '하녀'], '순위': '93', '직업': '배우', '생년월일': '1952-01-01', '성별': '남', '신장/체중': '175cm, 72kg', '학교': '한국외국어대학교 베트남어학 학사', '취미': '골프, 낚시', '다른이름': '安聖基'}\n",
      "{'_id': ObjectId('5f17c4855d03ae9996c595a7'), '배우이름': '박영규', '흥행지수': 2984, '출연영화': ['해치지않아'], '순위': '98', '직업': '배우', '생년월일': '1953-10-28', '성별': '남', '학교': '서울예술대학 연극과 졸업'}\n",
      "{'_id': ObjectId('5f17c4855d03ae9996c59561'), '배우이름': '김종구', '흥행지수': 8308, '출연영화': ['엑시트', '사랑의 선물', '욕창', '시', '광해, 왕이 된 남자', '들개'], '순위': '28', '직업': '배우', '생년월일': '1955-00-00', '성별': '남'}\n",
      "{'_id': ObjectId('5f17c4855d03ae9996c595cf'), '배우이름': '송영창', '흥행지수': 1748, '출연영화': ['정직한 후보', '변호인', '베테랑', '말모이', '국가부도의 날', '해빙'], '순위': '138', '직업': '배우', '생년월일': '1958-04-02', '성별': '남', '학교': '중앙대학교대학원 연극영화학', '취미': '볼링, 비디오감상', '다른이름': '宋永彰'}\n",
      "{'_id': ObjectId('5f17c4855d03ae9996c595b0'), '배우이름': '김혜옥', '흥행지수': 2355, '출연영화': ['힘을 내요, 미스터 리', '멋진 하루'], '순위': '107', '직업': '배우', '생년월일': '1958-05-09', '성별': '여', '학교': '중앙대학교신문방송대학원 신문방송학', '취미': '수영하기'}\n",
      "{'_id': ObjectId('5f17c4855d03ae9996c59584'), '배우이름': '강신일', '흥행지수': 4587, '출연영화': ['저 산 너머', '블랙머니', '집 이야기', '판도라'], '순위': '63', '직업': '배우', '생년월일': '1960-11-26', '성별': '남', '신장/체중': '170cm, 64kg', '학교': '경희대학교 전자공학과', '취미': '스킨스쿠버'}\n"
     ]
    }
   ],
   "source": [
    "docs = actor_collection.find({\"생년월일\" : {'$exists' : True }}).sort(\"생년월일\").limit(10)\n",
    "for doc in docs:\n",
    "    print(doc)"
   ]
  },
  {
   "cell_type": "markdown",
   "metadata": {},
   "source": [
    "### 1.3 find의 다양한 문법 - exists"
   ]
  },
  {
   "cell_type": "code",
   "execution_count": 8,
   "metadata": {},
   "outputs": [
    {
     "name": "stdout",
     "output_type": "stream",
     "text": [
      "{'_id': ObjectId('5f17c4855d03ae9996c595d0'), '배우이름': '이영애', '흥행지수': 1716, '출연영화': ['나를 찾아줘', '봄날은 간다', '친절한 금자씨', '공동경비구역 JSA'], '순위': '139', '직업': '배우', '생년월일': '1971-01-31', '성별': '여', '신장/체중': '165cm, 48kg', '학교': '한양대 독어독문  -중앙대학교대학원 연극영화', '취미': '수영, 승마, 피아노', '특기': '노래', '소속사': '에이스타즈'}\n",
      "{'_id': ObjectId('5f17c4855d03ae9996c595c3'), '배우이름': '최민호', '흥행지수': 2046, '출연영화': ['장사리 : 잊혀진 영웅들', '인랑'], '순위': '126', '직업': '가수', '생년월일': '1991-12-09', '성별': '남', '신장/체중': '181cm', '학교': '건국대학교 예술학', '취미': '축구, 농구', '특기': '연기, 영어, 중국어', '소속사': 'SM엔터테인먼트', '다른이름': '珉豪; 샤이니; SHINee'}\n",
      "{'_id': ObjectId('5f17c4855d03ae9996c595bf'), '배우이름': '김태우', '흥행지수': 2096, '출연영화': ['천문: 하늘에 묻는다', '접속', '공동경비구역 JSA', '기담', '창궐'], '순위': '122', '직업': '배우', '생년월일': '1971-04-15', '성별': '남', '신장/체중': '183cm, 73kg', '학교': '중앙대학교 연극영화', '취미': '수영', '특기': '사물놀이'}\n",
      "{'_id': ObjectId('5f17c4855d03ae9996c595b7'), '배우이름': '김성오', '흥행지수': 2243, '출연영화': ['해치지않아', '불한당: 나쁜 놈들의 세상'], '순위': '114', '직업': '배우', '생년월일': '1978-09-15', '성별': '남', '신장/체중': '180cm, 70kg', '취미': '낚시, 당구', '특기': '스노우보드'}\n",
      "{'_id': ObjectId('5f17c4855d03ae9996c595b6'), '배우이름': '김명민', '흥행지수': 2251, '출연영화': ['장사리 : 잊혀진 영웅들', '판도라'], '순위': '113', '직업': '배우', '생년월일': '1972-10-08', '성별': '남', '신장/체중': '180cm, 70kg', '학교': '서울예술대학 연극과', '취미': '여행', '특기': '수영, 스킨스쿠버, 피아노', '소속사': 'MY엔터테인먼트'}\n"
     ]
    }
   ],
   "source": [
    "actor = actor_collection\n",
    "docs = actor.find({'특기': {'$exists':True}}).sort('흥행지수').limit(5)\n",
    "for doc in docs:\n",
    "    print (doc)"
   ]
  },
  {
   "cell_type": "markdown",
   "metadata": {},
   "source": [
    "<div class=\"alert alert-block alert-warning\">\n",
    "<font color=\"blue\" size=\"4em\">실습</font><br>\n",
    "생년월일이 없는 doc의 actor_name 만 출력하기\n",
    "</div>"
   ]
  },
  {
   "cell_type": "code",
   "execution_count": 9,
   "metadata": {},
   "outputs": [
    {
     "name": "stdout",
     "output_type": "stream",
     "text": [
      "{'배우이름': '이봉련'}\n",
      "{'배우이름': '김병순'}\n",
      "{'배우이름': '배성우'}\n",
      "{'배우이름': '염정아'}\n",
      "{'배우이름': '김종수'}\n",
      "{'배우이름': '김소진'}\n",
      "{'배우이름': '한정현'}\n",
      "{'배우이름': '조현정'}\n",
      "{'배우이름': '김경덕'}\n",
      "{'배우이름': '신용우'}\n",
      "{'배우이름': '옥자연'}\n",
      "{'배우이름': '김영은'}\n",
      "{'배우이름': '조이현'}\n",
      "{'배우이름': '장동주'}\n",
      "{'배우이름': '임지연'}\n",
      "{'배우이름': '원현준'}\n"
     ]
    }
   ],
   "source": [
    "docs = actor.find({'생년월일': {'$exists':False}}, {'배우이름':1, '_id':0})\n",
    "for doc in docs:\n",
    "    print (doc)"
   ]
  },
  {
   "cell_type": "markdown",
   "metadata": {},
   "source": [
    "### 1.4 find의 다양한 문법 - 필드값 범위로 검색"
   ]
  },
  {
   "cell_type": "code",
   "execution_count": null,
   "metadata": {},
   "outputs": [],
   "source": [
    "docs = actor.find({'흥행지수': {'$gte': 10000}, '출연영화':'극한직업'}, {'배우이름':1, '출연영화':1, '_id':0}).sort('배우이름').limit(3)\n",
    "for doc in docs:\n",
    "    print(doc)"
   ]
  },
  {
   "cell_type": "markdown",
   "metadata": {},
   "source": [
    "### find의 다양한 문법 - or"
   ]
  },
  {
   "cell_type": "code",
   "execution_count": null,
   "metadata": {},
   "outputs": [],
   "source": [
    "docs = actor.find({'$or': [{'출연영화':'극한직업'}, {'출연영화':'더 킹'}] }, {'배우이름':1, '출연영화':1, '_id':0})\n",
    "for doc in docs:\n",
    "    print(doc)"
   ]
  },
  {
   "cell_type": "code",
   "execution_count": null,
   "metadata": {},
   "outputs": [],
   "source": [
    "docs = actor.find({ '흥행지수': {'$gte': 10000}, '$or': [{'출연영화':'극한직업'}, {'출연영화':'더 킹'}] }, {'배우이름':1, '출연영화':1, '_id':0})\n",
    "for doc in docs:\n",
    "    print(doc)"
   ]
  },
  {
   "cell_type": "markdown",
   "metadata": {},
   "source": [
    "### find의 다양한 문법 - nor\n",
    "* not or"
   ]
  },
  {
   "cell_type": "code",
   "execution_count": null,
   "metadata": {},
   "outputs": [],
   "source": [
    "docs = actor.find({'$nor': [{'흥행지수': { '$gte': 10000}}, {'흥행지수': { '$lte': 2000}}]}, {'배우이름':1, '흥행지수':1, '_id':0}).limit(3)\n",
    "for doc in docs:\n",
    "    print (doc)"
   ]
  },
  {
   "cell_type": "markdown",
   "metadata": {},
   "source": [
    "### find의 다양한 문법 - in, nin\n",
    "* in: 들어가 있다.\n",
    "* nin: not in - 들어가 있지 않다."
   ]
  },
  {
   "cell_type": "code",
   "execution_count": null,
   "metadata": {},
   "outputs": [],
   "source": [
    "docs = actor.find({'흥행지수': { '$in': [9182, 8439]}}, {'배우이름':1, '흥행지수':1, '_id':0})\n",
    "for doc in docs:\n",
    "    print (doc)"
   ]
  },
  {
   "cell_type": "code",
   "execution_count": null,
   "metadata": {},
   "outputs": [],
   "source": [
    "docs = actor.find({'흥행지수': { '$nin': [9182, 8439]}}, {'배우이름':1, '흥행지수':1, '_id':0}).limit(3)\n",
    "for doc in docs:\n",
    "    print (doc)"
   ]
  },
  {
   "cell_type": "markdown",
   "metadata": {},
   "source": [
    "<div class=\"alert alert-block alert-warning\">\n",
    "<font color=\"blue\" size=\"4em\">실습</font><br>\n",
    "흥행지수 가 9182, 8439가 아니고, 10000 이하인 데이터를 3개만 검색하세요. (nor, in, gt 활용, 배우이름과 흥행지수만 출력)\n",
    "</div>"
   ]
  },
  {
   "cell_type": "code",
   "execution_count": null,
   "metadata": {},
   "outputs": [],
   "source": [
    "docs = actor.find({'$nor': [{'흥행지수': { '$in': [9182, 8439]}}, {'흥행지수': { '$gt': 10000}}]}, {'배우이름':1, '흥행지수':1, '_id':0}).limit(3)\n",
    "for doc in docs:\n",
    "    print (doc)"
   ]
  },
  {
   "cell_type": "markdown",
   "metadata": {},
   "source": [
    "### find의 다양한 문법 - skip, limit\n",
    "* skip(n): 검색 결과 n개만큼 건너뜀\n",
    "* limit(n): 검색 결과 n개만 표시"
   ]
  },
  {
   "cell_type": "code",
   "execution_count": null,
   "metadata": {},
   "outputs": [],
   "source": [
    "docs = actor.find({'흥행지수': {'$gte': 10000}}).limit(3)\n",
    "for doc in docs:\n",
    "    print (doc)"
   ]
  },
  {
   "cell_type": "code",
   "execution_count": null,
   "metadata": {},
   "outputs": [],
   "source": [
    "docs = actor.find({'흥행지수': {'$gte': 10000}}).skip(3)\n",
    "for doc in docs:\n",
    "    print (doc)"
   ]
  },
  {
   "cell_type": "code",
   "execution_count": null,
   "metadata": {},
   "outputs": [],
   "source": [
    "docs = actor.find({'흥행지수': {'$gte': 10000}}).skip(3).limit(3)\n",
    "for doc in docs:\n",
    "    print (doc)"
   ]
  },
  {
   "cell_type": "markdown",
   "metadata": {},
   "source": [
    "### find의 다양한 문법 - list 검색"
   ]
  },
  {
   "cell_type": "code",
   "execution_count": null,
   "metadata": {},
   "outputs": [],
   "source": [
    "docs = actor.find({'출연영화': '극한직업'})\n",
    "for doc in docs:\n",
    "    print (doc)"
   ]
  },
  {
   "cell_type": "code",
   "execution_count": null,
   "metadata": {},
   "outputs": [],
   "source": [
    "docs = actor.find({'$or': [{'출연영화': '극한직업'}, {'출연영화': '사바하'}]})\n",
    "for doc in docs:\n",
    "    print (doc)"
   ]
  },
  {
   "cell_type": "markdown",
   "metadata": {},
   "source": [
    "### find의 다양한 문법 - list 검색 (all)"
   ]
  },
  {
   "cell_type": "code",
   "execution_count": null,
   "metadata": {},
   "outputs": [],
   "source": [
    "docs = actor.find({'출연영화': { '$all': ['변산', '사바하']}})\n",
    "for doc in docs:\n",
    "    print (doc)"
   ]
  },
  {
   "cell_type": "markdown",
   "metadata": {},
   "source": [
    "### find의 다양한 문법 - list 검색 (리스트 index 번호로 검색하기)"
   ]
  },
  {
   "cell_type": "code",
   "execution_count": null,
   "metadata": {},
   "outputs": [],
   "source": [
    "docs = actor.find({'출연영화.0': '사바하'})\n",
    "for doc in docs:\n",
    "    print (doc)"
   ]
  },
  {
   "cell_type": "markdown",
   "metadata": {},
   "source": [
    "### find의 다양한 문법 - list 검색 (리스트 사이즈로 검색하기)"
   ]
  },
  {
   "cell_type": "code",
   "execution_count": null,
   "metadata": {},
   "outputs": [],
   "source": [
    "docs = actor.find({'출연영화': {'$size': 5}})\n",
    "for doc in docs:\n",
    "    print(doc)"
   ]
  },
  {
   "cell_type": "markdown",
   "metadata": {},
   "source": [
    "### find의 다양한 문법 (elemMatch)\n",
    "* 적어도 한 개 이상의 리스트 요소가 복수 개의 조건을 동시에 만족하는 경우"
   ]
  },
  {
   "cell_type": "code",
   "execution_count": null,
   "metadata": {},
   "outputs": [],
   "source": [
    "from bs4 import BeautifulSoup\n",
    "import requests\n",
    "import pymongo\n",
    "import re\n",
    "\n",
    "conn = pymongo.MongoClient()\n",
    "actor_db = conn.cine21\n",
    "elemmatch_sample = actor_db.sample"
   ]
  },
  {
   "cell_type": "code",
   "execution_count": null,
   "metadata": {},
   "outputs": [],
   "source": [
    "elemmatch_sample.insert_many([\n",
    "    {'results': [82, 85, 88]},\n",
    "    {'results': [75, 88, 91]}\n",
    "])"
   ]
  },
  {
   "cell_type": "code",
   "execution_count": null,
   "metadata": {},
   "outputs": [],
   "source": [
    "docs = elemmatch_sample.find({'results': {'$gte': 90, '$lt':85}})\n",
    "for doc in docs:\n",
    "    print (doc)"
   ]
  },
  {
   "cell_type": "code",
   "execution_count": null,
   "metadata": {},
   "outputs": [],
   "source": [
    "docs = elemmatch_sample.find({'results': {'$elemMatch': {'$gte':75, '$lt':80}}})\n",
    "for doc in docs:\n",
    "    print (doc)"
   ]
  },
  {
   "cell_type": "code",
   "execution_count": null,
   "metadata": {},
   "outputs": [],
   "source": []
  },
  {
   "cell_type": "markdown",
   "metadata": {},
   "source": [
    "<div class=\"alert alert-block alert-warning\">\n",
    "<font color=\"blue\" size=\"4em\">실습</font><br>\n",
    "직업이 가수인 배우 중, 흥행지수가 가장 높은 배우순으로 10명을 출력하세요\n",
    "</div>"
   ]
  },
  {
   "cell_type": "code",
   "execution_count": 4,
   "metadata": {},
   "outputs": [
    {
     "name": "stdout",
     "output_type": "stream",
     "text": [
      "{'_id': ObjectId('5d4541ccc92b652d52161369'), '배우이름': '김설현', '흥행지수': 2944, '출연영화': ['안시성'], '랭킹': '87', '직업': '가수', '생년월일': '1995-01-03', '성별': '여', '홈페이지': '\\nhttps://instagram.com/sh_9513\\n', '다른이름': '김설현;AOA;에이오에이'}\n",
      "{'_id': ObjectId('5d4541ccc92b652d52161377'), '배우이름': '도경수', '흥행지수': 2475, '출연영화': ['스윙키즈', '언더독', '신과 함께-죄와 벌', '형', '순정', '7호실'], '랭킹': '101', '직업': '가수', '성별': '남', '다른이름': '엑소;EXO; 디오'}\n",
      "{'_id': ObjectId('5d4541ccc92b652d52161378'), '배우이름': '진영', '흥행지수': 2469, '출연영화': ['내안의 그놈', '수상한 그녀'], '랭킹': '102', '직업': '가수', '생년월일': '1991-11-18', '성별': '남', '홈페이지': '\\nhttps://twitter.com/_jinyoung911118\\nhttps://instagram.com/jinyoung0423/\\n', '신장/체중': '178cm, 59kg', '다른이름': '정진영; 비원에이포; B1A4'}\n",
      "{'_id': ObjectId('5d4541ccc92b652d52161387'), '배우이름': '임윤아', '흥행지수': 2176, '출연영화': ['엑시트', '공조'], '랭킹': '117', '직업': '가수', '생년월일': '1990-05-30', '성별': '여', '홈페이지': '\\nhttps://www.instagram.com/yoona__lim/\\n', '소속사': 'SM엔터테인먼트', '다른이름': '소녀시대; girlsgeneration; girls generation'}\n"
     ]
    }
   ],
   "source": [
    "docs = actor.find({'직업':'가수'}).sort('흥행지수', pymongo.DESCENDING).limit(10)\n",
    "for doc in docs:\n",
    "    print (doc)"
   ]
  },
  {
   "cell_type": "markdown",
   "metadata": {},
   "source": [
    "<div class=\"alert alert-block alert-warning\">\n",
    "<font color=\"blue\" size=\"4em\">실습</font><br>\n",
    "국가부도의 날에 출연한 배우를 흥행지수가 높은 순으로 10명 출력하세요 \n",
    "</div>"
   ]
  },
  {
   "cell_type": "code",
   "execution_count": 5,
   "metadata": {},
   "outputs": [
    {
     "name": "stdout",
     "output_type": "stream",
     "text": [
      "{'_id': ObjectId('5d4541ccc92b652d52161325'), '배우이름': '조한철', '흥행지수': 11833, '출연영화': ['신과 함께-인과 연', '국가부도의 날', '로망', '배심원들'], '랭킹': '19', '직업': '배우', '생년월일': '1973-05-13', '성별': '남'}\n",
      "{'_id': ObjectId('5d4541ccc92b652d5216132a'), '배우이름': '김홍파', '흥행지수': 10516, '출연영화': ['공작', '국가부도의 날', '마약왕', '말모이', '배심원들', '더 테러 라이브'], '랭킹': '24', '직업': '배우', '생년월일': '1962-01-05', '성별': '남'}\n",
      "{'_id': ObjectId('5d4541ccc92b652d5216132b'), '배우이름': '조우진', '흥행지수': 10356, '출연영화': ['돈', '창궐', '마약왕', '국가부도의 날', '어쩌다, 결혼', '강철비'], '랭킹': '25', '직업': '배우', '생년월일': '1979-01-16', '성별': '남', '다른이름': '조신제'}\n",
      "{'_id': ObjectId('5d4541ccc92b652d5216133f'), '배우이름': '염혜란', '흥행지수': 5513, '출연영화': ['국가부도의 날', '미성년', '증인', '걸캅스', '아이 캔 스피크'], '랭킹': '45', '직업': '배우', '성별': '여'}\n",
      "{'_id': ObjectId('5d4541ccc92b652d52161344'), '배우이름': '송영창', '흥행지수': 5183, '출연영화': ['마약왕', '국가부도의 날', '악질경찰', '말모이', '박쥐', '좋은 놈, 나쁜 놈, 이상한 놈'], '랭킹': '50', '직업': '배우', '생년월일': '1958-04-02', '성별': '남', '학교': '중앙대학교대학원 연극영화학', '취미': '볼링, 비디오감상', '다른이름': '宋永彰'}\n",
      "{'_id': ObjectId('5d4541ccc92b652d52161348'), '배우이름': '장성범', '흥행지수': 4660, '출연영화': ['너의 결혼식', '국가부도의 날', '썬키스 패밀리'], '랭킹': '54', '직업': '배우', '생년월일': '1995-07-18', '성별': '남'}\n",
      "{'_id': ObjectId('5d4541ccc92b652d5216135c'), '배우이름': '권해효', '흥행지수': 3394, '출연영화': ['국가부도의 날', '나의 특별한 형제', '해피 투게더', '강변호텔', '한낮의 피크닉', '메기'], '랭킹': '74', '직업': '배우', '생년월일': '1965-11-06', '성별': '남', '신장/체중': '170cm, 62kg', '학교': '한양대학교 연극영화학 졸업'}\n",
      "{'_id': ObjectId('5d4541ccc92b652d52161360'), '배우이름': '김혜수', '흥행지수': 3273, '출연영화': ['국가부도의 날', '도둑들'], '랭킹': '78', '직업': '배우', '생년월일': '1970-09-05', '성별': '여', '신장/체중': '171cm, 49kg', '학교': '동국대 연극영화 - 성균관대언론정보대학원 석사', '취미': '영화 감상, 사진집 모으기, 태권도, 수영, 테니스, 볼링', '특기': '태권도'}\n",
      "{'_id': ObjectId('5d4541ccc92b652d52161365'), '배우이름': '유아인', '흥행지수': 3094, '출연영화': ['국가부도의 날', '우아한 거짓말', '버닝'], '랭킹': '83', '직업': '배우', '생년월일': '1986-10-06', '성별': '남', '홈페이지': '\\nhttps://www.instagram.com/hongsick/\\nhttps://twitter.com/seeksik\\n', '신장/체중': '178cm, 60kg', '학교': '단국대학교 연극', '취미': '피아노 연주, 인터넷 게임, 영화, 음악감상', '특기': '스노우보드, 수영', '다른이름': '엄홍식'}\n",
      "{'_id': ObjectId('5d4541ccc92b652d5216136a'), '배우이름': '허준호', '흥행지수': 2924, '출연영화': ['국가부도의 날', '인랑'], '랭킹': '88', '원어명': '許俊豪', '직업': '배우', '생년월일': '1964-03-03', '성별': '남', '신장/체중': '180cm, 75kg', '학교': '서울예술대학 연극과', '취미': '만화책 보기', '특기': '야구, 농구', '소속사': '지티비엔터테인먼트'}\n"
     ]
    }
   ],
   "source": [
    "docs = actor.find({'출연영화':'국가부도의 날'}).sort('흥행지수', pymongo.DESCENDING).limit(10)\n",
    "for doc in docs:\n",
    "    print (doc)"
   ]
  },
  {
   "cell_type": "code",
   "execution_count": null,
   "metadata": {},
   "outputs": [],
   "source": []
  }
 ],
 "metadata": {
  "kernelspec": {
   "display_name": "Python 3",
   "language": "python",
   "name": "python3"
  },
  "language_info": {
   "codemirror_mode": {
    "name": "ipython",
    "version": 3
   },
   "file_extension": ".py",
   "mimetype": "text/x-python",
   "name": "python",
   "nbconvert_exporter": "python",
   "pygments_lexer": "ipython3",
   "version": "3.7.6"
  }
 },
 "nbformat": 4,
 "nbformat_minor": 2
}
