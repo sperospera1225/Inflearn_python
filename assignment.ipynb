{
 "cells": [
  {
   "cell_type": "code",
   "execution_count": 19,
   "metadata": {},
   "outputs": [],
   "source": [
    "import openpyxl\n",
    "import re\n",
    "\n",
    "work_file = openpyxl.load_workbook('train.xlsx')\n",
    "work_sheet = work_file.active\n",
    "work_sheet_man = work_file.create_sheet('남성')\n",
    "work_sheet_solo_woman = work_file.create_sheet('미혼여성')\n",
    "work_sheet_married_woman = work_file.create_sheet('기혼여성')\n",
    "work_sheet_others = work_file.create_sheet('기타')\n",
    "work_sheet_report = work_file.create_sheet('보고서')\n",
    "\n",
    "man_survived, man_unsurvived = 0, 0\n",
    "solo_woman_survived, solo_woman_unsurvived = 0, 0\n",
    "married_woman_survived, married_woman_unsurvived = 0, 0\n",
    "others_survived, others_unsurvived = 0, 0\n",
    "\n",
    "pattern = re.compile('[A-Za-z]+\\.')\n",
    "\n",
    "for row in work_sheet.rows:\n",
    "    data = pattern.findall(row[3].value)\n",
    "    if len(data) > 0:\n",
    "        if data[0] == 'Mr.':\n",
    "            work_sheet_man.append([item.value for item in row])\n",
    "            if row[1].value == 1:\n",
    "                man_survived += 1\n",
    "            else:\n",
    "                man_unsurvived += 1\n",
    "        elif data[0] == 'Miss.':\n",
    "            work_sheet_solo_woman.append([item.value for item in row])\n",
    "            if row[1].value == 1:\n",
    "                solo_woman_survived += 1\n",
    "            else:\n",
    "                solo_woman_unsurvived += 1\n",
    "        elif data[0] == 'Mrs.':\n",
    "            work_sheet_married_woman.append([item.value for item in row])\n",
    "            if row[1].value == 1:\n",
    "                married_woman_survived += 1\n",
    "            else:\n",
    "                married_woman_unsurvived += 1\n",
    "        else:\n",
    "            work_sheet_others.append([item.value for item in row])\n",
    "            if row[1].value == 1:\n",
    "                others_survived += 1\n",
    "            else:\n",
    "                others_unsurvived += 1\n",
    "\n",
    "work_sheet_report.column_dimensions['A'].width = 10\n",
    "work_sheet_report.column_dimensions['B'].width = 10\n",
    "work_sheet_report.column_dimensions['C'].width = 10\n",
    "work_sheet_report.column_dimensions['D'].width = 10\n",
    "\n",
    "work_sheet_report.append(['분류', '생존자수', '사망자수', '생존률'])\n",
    "\n",
    "man_survived_rate = \"%.2f%%\" % (man_survived / (man_survived + man_unsurvived) * 100)\n",
    "work_sheet_report.append(['남성', man_survived, man_unsurvived, man_survived_rate])\n",
    "\n",
    "solo_woman_survived_rate = \"%.2f%%\" % (solo_woman_survived / (solo_woman_survived + solo_woman_unsurvived) * 100)\n",
    "work_sheet_report.append(['미혼여성', solo_woman_survived, solo_woman_unsurvived, solo_woman_survived_rate])\n",
    "\n",
    "married_woman_survived_rate = \"%.2f%%\" % (married_woman_survived / (married_woman_survived + married_woman_unsurvived) * 100)\n",
    "work_sheet_report.append(['기혼여성', married_woman_survived, married_woman_unsurvived, married_woman_survived_rate])\n",
    "\n",
    "others_survived_rate = \"%.2f%%\" % (others_survived / (others_survived + others_unsurvived) * 100)\n",
    "work_sheet_report.append(['기타', others_survived, others_unsurvived, others_survived_rate])\n",
    "                \n",
    "work_file.save('assignment.xlsx')\n",
    "work_file.close()"
   ]
  },
  {
   "cell_type": "markdown",
   "metadata": {},
   "source": [
    "## 소수점 자릿수 지정 (num=3.104)\n",
    "1. round함수 이용하기 : round(num,2) = 3.1\n",
    "2. '%.원하는자리수f' % 출력값 :\n",
    "   \"%.2f%%\" % num = 3.10%\n",
    "   \"%.2f\" % num = 3.10\n",
    "3. format(item,폭(width).정밀도(precision)f) :\n",
    "   format(num, '.2f') = 3.10\n",
    "4. \"{0:.2f}\".format(num)"
   ]
  },
  {
   "cell_type": "code",
   "execution_count": 29,
   "metadata": {},
   "outputs": [
    {
     "ename": "ValueError",
     "evalue": "Invalid format specifier",
     "output_type": "error",
     "traceback": [
      "\u001b[1;31m---------------------------------------------------------------------------\u001b[0m",
      "\u001b[1;31mValueError\u001b[0m                                Traceback (most recent call last)",
      "\u001b[1;32m<ipython-input-29-bdc0403d7d49>\u001b[0m in \u001b[0;36m<module>\u001b[1;34m\u001b[0m\n\u001b[0;32m      1\u001b[0m \u001b[0mnum\u001b[0m \u001b[1;33m=\u001b[0m \u001b[1;36m3.104\u001b[0m\u001b[1;33m\u001b[0m\u001b[1;33m\u001b[0m\u001b[0m\n\u001b[1;32m----> 2\u001b[1;33m \u001b[0mprint\u001b[0m\u001b[1;33m(\u001b[0m\u001b[0mformat\u001b[0m\u001b[1;33m(\u001b[0m\u001b[0mnum\u001b[0m\u001b[1;33m,\u001b[0m \u001b[1;34m\"10.2f%\"\u001b[0m\u001b[1;33m)\u001b[0m\u001b[1;33m)\u001b[0m\u001b[1;33m\u001b[0m\u001b[1;33m\u001b[0m\u001b[0m\n\u001b[0m",
      "\u001b[1;31mValueError\u001b[0m: Invalid format specifier"
     ]
    }
   ],
   "source": [
    "num = 3.104\n",
    "print(format(num, \"10.2f%\"))"
   ]
  },
  {
   "cell_type": "code",
   "execution_count": 30,
   "metadata": {},
   "outputs": [
    {
     "data": {
      "text/plain": [
       "'3.10'"
      ]
     },
     "execution_count": 30,
     "metadata": {},
     "output_type": "execute_result"
    }
   ],
   "source": [
    "num = 3.104\n",
    "\"{0:.2f}\".format(num)"
   ]
  },
  {
   "cell_type": "code",
   "execution_count": 31,
   "metadata": {},
   "outputs": [
    {
     "data": {
      "text/plain": [
       "'3.10'"
      ]
     },
     "execution_count": 31,
     "metadata": {},
     "output_type": "execute_result"
    }
   ],
   "source": [
    "num = 3.104\n",
    "format(num, '.2f')"
   ]
  },
  {
   "cell_type": "code",
   "execution_count": null,
   "metadata": {},
   "outputs": [],
   "source": []
  }
 ],
 "metadata": {
  "kernelspec": {
   "display_name": "Python 3",
   "language": "python",
   "name": "python3"
  },
  "language_info": {
   "codemirror_mode": {
    "name": "ipython",
    "version": 3
   },
   "file_extension": ".py",
   "mimetype": "text/x-python",
   "name": "python",
   "nbconvert_exporter": "python",
   "pygments_lexer": "ipython3",
   "version": "3.7.6"
  }
 },
 "nbformat": 4,
 "nbformat_minor": 4
}
