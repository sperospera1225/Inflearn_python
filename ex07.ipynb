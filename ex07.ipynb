{
 "cells": [
  {
   "cell_type": "code",
   "execution_count": 6,
   "metadata": {},
   "outputs": [
    {
     "name": "stdout",
     "output_type": "stream",
     "text": [
      "https://www.google.co.kr/\n",
      "https://www.google.co.kr/\n",
      "http://truman.tistory.com/\n",
      "http://truman.tistory.com/\n"
     ]
    }
   ],
   "source": [
    "from bs4 import BeautifulSoup\n",
    "\n",
    "html = \"\"\"\n",
    "\n",
    "<html>\n",
    "\n",
    "<body>\n",
    "\n",
    "<ul>\n",
    "\n",
    "<li><a href = \"https://www.google.co.kr/\"> 구글 </a></li>\n",
    "\n",
    "<li><a href = \"http://truman.tistory.com/\"> 해피밀 블로그 </a></li>\n",
    "\n",
    "</ul>\n",
    "\n",
    "</body>\n",
    "\n",
    "</html>\"\"\";\n",
    "\n",
    "soup = BeautifulSoup(html, \"html.parser\")\n",
    "#a = soup.html.body.ul.li.a\n",
    "#print(a.attrs)\n",
    "\n",
    "\n",
    "# 속성값 중 'href' 값 출력\n",
    "\n",
    "#print(a['href'])\n",
    "#print(a.attrs['href'])\n",
    "\n",
    "\n",
    "# a태그의 'href' 값과 문장 모두 출력\n",
    "\n",
    "for i in soup.find_all('a'):\n",
    "    print(i['href'])\n",
    "    print(i.attrs['href'])\n",
    "    #print(i.string)"
   ]
  },
  {
   "cell_type": "code",
   "execution_count": null,
   "metadata": {},
   "outputs": [],
   "source": []
  },
  {
   "cell_type": "code",
   "execution_count": null,
   "metadata": {},
   "outputs": [],
   "source": []
  }
 ],
 "metadata": {
  "kernelspec": {
   "display_name": "Python 3",
   "language": "python",
   "name": "python3"
  },
  "language_info": {
   "codemirror_mode": {
    "name": "ipython",
    "version": 3
   },
   "file_extension": ".py",
   "mimetype": "text/x-python",
   "name": "python",
   "nbconvert_exporter": "python",
   "pygments_lexer": "ipython3",
   "version": "3.7.6"
  }
 },
 "nbformat": 4,
 "nbformat_minor": 4
}
