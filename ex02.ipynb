{
 "cells": [
  {
   "cell_type": "code",
   "execution_count": 5,
   "metadata": {},
   "outputs": [
    {
     "name": "stdout",
     "output_type": "stream",
     "text": [
      "0.89\n"
     ]
    }
   ],
   "source": [
    "interest = 0.887\n",
    "print(format(interest, \".2f\"))"
   ]
  },
  {
   "cell_type": "markdown",
   "metadata": {},
   "source": [
    "## 리스트 변수\n",
    "\n",
    "1. 리스트 선언\n",
    "     - 리스트 변수 = [ ]\n",
    "     - 리스트 변수 = list()\n",
    "     - 리스트 변수 = [데이터1, 데이터2 ...]\n",
    "2. 리스트 추가\n",
    "     - 리스트 변수.append(데이터)\n",
    "     - 리스트 변수.insert(인덱스번호, 데이터)\n",
    "3. 리스트 삭제\n",
    "     - 리스트 변수.remove(데이터)\n",
    "     - del 리스트 변수[인덱스번호]\n",
    "4. 리스트 데이터 수정\n",
    "     - 리스트 변수[인덱스번호] = 수정할 데이터"
   ]
  },
  {
   "cell_type": "markdown",
   "metadata": {},
   "source": [
    "## 반복문\n",
    "for data in 리스트변수:\n",
    "    실행코드\n",
    "    \n",
    "for data in range(반복횟수):\n",
    "    실행코드"
   ]
  },
  {
   "cell_type": "markdown",
   "metadata": {},
   "source": [
    "## 데이터 구조\n",
    "- 데이터 구조: 리스트, 튜플, 딕셔너리, 집합"
   ]
  },
  {
   "cell_type": "markdown",
   "metadata": {},
   "source": [
    "## 튜플\n",
    "- 선언 + 입력: 변수명=(1,2,3...)\n",
    "- 읽기: 변수명[인덱스번호]\n",
    "- 추가: 불가\n",
    "- 삭제: 불가\n",
    "- 수정: 불가\n",
    "\n",
    "주로 리턴값 형식으로 사용되거나 변수의 값을 교환할때 사용된다"
   ]
  },
  {
   "cell_type": "code",
   "execution_count": 15,
   "metadata": {},
   "outputs": [
    {
     "name": "stdout",
     "output_type": "stream",
     "text": [
      "a =  1 , b =  2\n"
     ]
    }
   ],
   "source": [
    "def mul_return(a):\n",
    "    b = a + 1\n",
    "    return a, b    ## 튜플 형식으로 두개이상의 결과값 리턴 가능\n",
    "a ,b = mul_return(1)\n",
    "print(\"a = \",a,\", b = \",b)"
   ]
  },
  {
   "cell_type": "code",
   "execution_count": 9,
   "metadata": {},
   "outputs": [
    {
     "data": {
      "text/plain": [
       "tuple"
      ]
     },
     "execution_count": 9,
     "metadata": {},
     "output_type": "execute_result"
    }
   ],
   "source": [
    "data = (1, 2, 3)\n",
    "type(data)"
   ]
  },
  {
   "cell_type": "code",
   "execution_count": 10,
   "metadata": {},
   "outputs": [
    {
     "data": {
      "text/plain": [
       "(1, 2, 3)"
      ]
     },
     "execution_count": 10,
     "metadata": {},
     "output_type": "execute_result"
    }
   ],
   "source": [
    "data"
   ]
  },
  {
   "cell_type": "code",
   "execution_count": 16,
   "metadata": {},
   "outputs": [
    {
     "name": "stdout",
     "output_type": "stream",
     "text": [
      "2 1\n"
     ]
    }
   ],
   "source": [
    "x = 1\n",
    "y = 2\n",
    "x, y = y, x\n",
    "print(x, y)"
   ]
  },
  {
   "cell_type": "markdown",
   "metadata": {},
   "source": [
    "## 딕셔너리\n",
    "- 선언 + 입력: 변수명 = {키:값, 카:값, ...} 또는 dict()\n",
    "- 읽기: 변수명[키]\n",
    "- 추가: 변수명[새로운키] = 새로운값\n",
    "- 삭제: del 변수명[삭제할키]\n",
    "- 수정: 변수명[수정할키] = 수정할값 // 키값은 수정하기보다는 기존키삭제후 키 추가\n"
   ]
  },
  {
   "cell_type": "code",
   "execution_count": 53,
   "metadata": {},
   "outputs": [],
   "source": [
    "data_dict = {'일본':'JPN','중국':'CHN'}\n",
    "data_dict['미국'] = 'USA'"
   ]
  },
  {
   "cell_type": "code",
   "execution_count": 55,
   "metadata": {},
   "outputs": [
    {
     "name": "stdout",
     "output_type": "stream",
     "text": [
      "USA\n"
     ]
    }
   ],
   "source": [
    "# 주로 이런식으로 키값을 전체 읽어와서 조건문을 안에 넣는식으로 사용됨\n",
    "for key in data_dict.keys():\n",
    "    if key == '미국':\n",
    "        print(data_dict[key])"
   ]
  },
  {
   "cell_type": "markdown",
   "metadata": {},
   "source": [
    "## 집합 (SET) : 순서없음, 중복없음\n",
    "- 선언 + 입력: 변수명 = set() 또는 변수명 = {데이터1, 데이터2, ...} 또는\n",
    "  변수명 = SET(데이터1) 또는 변수명 = set({데이터1, 데이터2, ...})\n",
    "- 읽기: 인덱스 사용불가 for문으로 전체 읽어야함\n",
    "- 추가: 변수명.add(한개의데이터) 또는 변수명.update([두개이상의데이터]) \n",
    "- 삭제: 변수명.remove()\n",
    "- 수정: "
   ]
  },
  {
   "cell_type": "code",
   "execution_count": null,
   "metadata": {},
   "outputs": [],
   "source": [
    "data_list = list() # []\n",
    "data_tuple = tuple() # ()\n",
    "data_dict = dict() # {}\n",
    "data_set = set()"
   ]
  },
  {
   "cell_type": "code",
   "execution_count": 41,
   "metadata": {},
   "outputs": [],
   "source": [
    "data_set = {'apple', 'dell', 'samsung', 'lg'}"
   ]
  },
  {
   "cell_type": "code",
   "execution_count": 42,
   "metadata": {},
   "outputs": [
    {
     "data": {
      "text/plain": [
       "['apple', 'dell', 'lg', 'samsung']"
      ]
     },
     "execution_count": 42,
     "metadata": {},
     "output_type": "execute_result"
    }
   ],
   "source": [
    "# 주로 list안에 데이터 중복제거시 사용되거나 집합연산시 사용됨\n",
    "data_set = ['apple', 'dell', 'samsung', 'lg','apple', 'dell', 'samsung', 'lg']\n",
    "data = set(data_set) # 중복제거\n",
    "list(data)"
   ]
  },
  {
   "cell_type": "code",
   "execution_count": 43,
   "metadata": {},
   "outputs": [
    {
     "data": {
      "text/plain": [
       "False"
      ]
     },
     "execution_count": 43,
     "metadata": {},
     "output_type": "execute_result"
    }
   ],
   "source": [
    "'sony' in data_set"
   ]
  },
  {
   "cell_type": "code",
   "execution_count": 44,
   "metadata": {},
   "outputs": [
    {
     "name": "stdout",
     "output_type": "stream",
     "text": [
      "['apple', 'dell', 'samsung', 'lg', 'apple', 'dell', 'samsung', 'lg']\n"
     ]
    }
   ],
   "source": [
    "if 'apple' in data_set:\n",
    "    print(data_set)"
   ]
  },
  {
   "cell_type": "code",
   "execution_count": 45,
   "metadata": {},
   "outputs": [],
   "source": [
    "data1 = {'apple', 'samsung', 'lg'}\n",
    "data2 = {'samsung', 'lg', 'xiaomi'}"
   ]
  },
  {
   "cell_type": "code",
   "execution_count": 46,
   "metadata": {},
   "outputs": [
    {
     "data": {
      "text/plain": [
       "{'lg', 'samsung'}"
      ]
     },
     "execution_count": 46,
     "metadata": {},
     "output_type": "execute_result"
    }
   ],
   "source": [
    "data1 & data2 # 교집합"
   ]
  },
  {
   "cell_type": "code",
   "execution_count": 47,
   "metadata": {},
   "outputs": [
    {
     "data": {
      "text/plain": [
       "{'apple'}"
      ]
     },
     "execution_count": 47,
     "metadata": {},
     "output_type": "execute_result"
    }
   ],
   "source": [
    "data1 - data2 # 차집합"
   ]
  },
  {
   "cell_type": "code",
   "execution_count": 48,
   "metadata": {},
   "outputs": [
    {
     "data": {
      "text/plain": [
       "{'apple', 'lg', 'samsung', 'xiaomi'}"
      ]
     },
     "execution_count": 48,
     "metadata": {},
     "output_type": "execute_result"
    }
   ],
   "source": [
    "data1 | data2 # 합집합"
   ]
  },
  {
   "cell_type": "code",
   "execution_count": 49,
   "metadata": {},
   "outputs": [
    {
     "data": {
      "text/plain": [
       "{'apple', 'xiaomi'}"
      ]
     },
     "execution_count": 49,
     "metadata": {},
     "output_type": "execute_result"
    }
   ],
   "source": [
    "data1 ^ data2 # 한쪽집합에만 해당하는 값"
   ]
  },
  {
   "cell_type": "code",
   "execution_count": null,
   "metadata": {},
   "outputs": [],
   "source": []
  }
 ],
 "metadata": {
  "kernelspec": {
   "display_name": "Python 3",
   "language": "python",
   "name": "python3"
  },
  "language_info": {
   "codemirror_mode": {
    "name": "ipython",
    "version": 3
   },
   "file_extension": ".py",
   "mimetype": "text/x-python",
   "name": "python",
   "nbconvert_exporter": "python",
   "pygments_lexer": "ipython3",
   "version": "3.7.6"
  }
 },
 "nbformat": 4,
 "nbformat_minor": 4
}
