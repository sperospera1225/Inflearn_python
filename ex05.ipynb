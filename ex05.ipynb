{
 "cells": [
  {
   "cell_type": "markdown",
   "metadata": {},
   "source": [
    "## 네이버 API 사용하기 (json)"
   ]
  },
  {
   "cell_type": "code",
   "execution_count": 24,
   "metadata": {},
   "outputs": [],
   "source": [
    "import requests\n",
    "import openpyxl\n",
    "\n",
    "client_Id = 'AHdfnn0aD4yTmjFuAHmD'\n",
    "client_secret = 'B7VVTFmKdi'\n",
    "num = 0\n",
    "\n",
    "excel_file = openpyxl.Workbook()\n",
    "excel_sheet = excel_file.active\n",
    "excel_sheet.column_dimensions['B'].width = 100\n",
    "excel_sheet.column_dimensions['C'].width = 100\n",
    "excel_sheet.append(['랭킹','제목','링크'])\n",
    "\n",
    "for index in range(10):\n",
    "    start_num = 1 + (index * 100)\n",
    "    naver_open_api = 'https://openapi.naver.com/v1/search/shop.json?query=samsung&display=100&start='+str(start_num)\n",
    "    header = {\"X-Naver-Client-Id\":client_Id, \"X-Naver-Client-Secret\":client_secret}\n",
    "    res = requests.get(naver_open_api, headers = header)\n",
    "    if res.status_code == 200:\n",
    "        data = res.json()\n",
    "        for item in data['items']:\n",
    "            num += 1\n",
    "            excel_sheet.append([num, item['title'].split('[')[0].strip(), item['link']])\n",
    "    else:\n",
    "        print(\"Error Code:\",res.status_code)\n",
    "\n",
    "excel_file.save('shopping_with_samsung.xlsx')\n",
    "excel_file.close()"
   ]
  },
  {
   "cell_type": "markdown",
   "metadata": {},
   "source": [
    "## 정부 API 사용하기 (xml)"
   ]
  },
  {
   "cell_type": "code",
   "execution_count": 41,
   "metadata": {},
   "outputs": [
    {
     "name": "stdout",
     "output_type": "stream",
     "text": [
      "영등포구 14\n",
      "금천구 16\n",
      "용산구 20\n",
      "영등포로 20\n",
      "홍릉로 23\n",
      "강동구 17\n",
      "천호대로 23\n",
      "송파구 23\n",
      "화랑로 20\n",
      "도봉구 28\n"
     ]
    }
   ],
   "source": [
    "import requests\n",
    "from bs4 import BeautifulSoup\n",
    "\n",
    "service_key = 'GZInZ6%2FIOkHigIYtO%2F9vLi9IkpM1imq9i7hCp%2F5OLd%2FDHazfOfRVbg67406A%2B%2FRuhTi7QVpjGId3dwISiSBMzQ%3D%3D'\n",
    "params = '&numOfRows=10&pageNo=1&sidoName=서울&ver=1.0'\n",
    "open_api = 'http://openapi.airkorea.or.kr/openapi/services/rest/ArpltnInforInqireSvc/getCtprvnRltmMesureDnsty?ServiceKey=' + service_key + params\n",
    "# json이 아니라 xml 데이터 포멧으로 가져옴\n",
    "res = requests.get(open_api)\n",
    "# 기존 html형식 크롤링이랑 똑같이 bs4사용해서 크롤링\n",
    "soup = BeautifulSoup(res.content, 'html.parser')\n",
    "data = soup.find_all('item')  # css형식 처럼 class 없으니 select보단 find사용\n",
    "for item in data:\n",
    "    print(item.find('stationname').get_text(), item.find('pm10value').get_text())"
   ]
  },
  {
   "cell_type": "code",
   "execution_count": null,
   "metadata": {},
   "outputs": [],
   "source": []
  }
 ],
 "metadata": {
  "kernelspec": {
   "display_name": "Python 3",
   "language": "python",
   "name": "python3"
  },
  "language_info": {
   "codemirror_mode": {
    "name": "ipython",
    "version": 3
   },
   "file_extension": ".py",
   "mimetype": "text/x-python",
   "name": "python",
   "nbconvert_exporter": "python",
   "pygments_lexer": "ipython3",
   "version": "3.7.6"
  }
 },
 "nbformat": 4,
 "nbformat_minor": 4
}
